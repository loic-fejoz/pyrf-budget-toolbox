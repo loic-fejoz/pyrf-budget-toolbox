{
 "cells": [
  {
   "cell_type": "markdown",
   "id": "1de30a3f-f8da-4cef-b6e0-d39fa025d5ce",
   "metadata": {},
   "source": [
    "# ADSB RF Signal Link Budget Analysis\n",
    "\n",
    "This notebook is here to demonstrate how to compute a simple RF Signal Link Budget thanks to the [PyRFBudget project](https://github.com/loic-fejoz/pyrf-budget-toolbox). The example is clearly based on the one provided by [PySDR](https://pysdr.org/content/link_budgets.html)\n",
    "\n",
    "So let's start by importing all of the library:"
   ]
  },
  {
   "cell_type": "code",
   "execution_count": 1,
   "id": "9defadaa-1de0-4229-a4d4-79dc88a9c33b",
   "metadata": {},
   "outputs": [],
   "source": [
    "from rfbudget import *"
   ]
  },
  {
   "cell_type": "markdown",
   "id": "ece5eb8f-6950-4bc5-a537-888389ea6d7c",
   "metadata": {},
   "source": [
    "First lets define few variables that clearly define the context of an ADSB communication, especially the frequency, the bandwidth, and the initial transmitter power."
   ]
  },
  {
   "cell_type": "code",
   "execution_count": 2,
   "id": "68faa92c-0393-4451-b139-8c18a81bcebd",
   "metadata": {},
   "outputs": [],
   "source": [
    "adsb_freq = MHz(1090)\n",
    "adsb_bandwidth = MHz(2)\n",
    "transmit_power_dbm = watt_to_dBm(100)"
   ]
  },
  {
   "cell_type": "markdown",
   "id": "2763236a-3ad3-41bf-9330-67cfa1bdf3d0",
   "metadata": {},
   "source": [
    "Lets say that the antenna supported by the airplane is slightly directive because it is directed to the ground and provide a 3dB gain:"
   ]
  },
  {
   "cell_type": "code",
   "execution_count": 3,
   "id": "1b837c7e-d9f3-4410-920c-a8303a6468e0",
   "metadata": {},
   "outputs": [
    {
     "data": {
      "image/svg+xml": [
       "<svg xmlns=\"http://www.w3.org/2000/svg\" xml:lang=\"en\" height=\"104.43999999999998pt\" width=\"66.09460000000001pt\" viewBox=\"-9.4358 -80.83999999999999 66.09460000000001 104.43999999999998\"><path d=\"M 0.0,-0.0 L 12.149999999999999,-0.0 L 24.299999999999997,-0.0\" style=\"stroke:black;fill:none;stroke-width:2.0;stroke-linecap:round;stroke-linejoin:round;\" /><path d=\"M 24.299999999999997,-0.0 L 24.299999999999997,-19.439999999999998 L 11.988,-38.879999999999995 L 36.611999999999995,-38.879999999999995 L 24.299999999999997,-19.439999999999998\" style=\"stroke:black;fill:none;stroke-width:2.0;stroke-linecap:round;stroke-linejoin:round;\" /><text x=\"24.299999999999997\" y=\"1.4399999999999995\" fill=\"black\" font-size=\"12\" font-family=\"sans\" text-anchor=\"middle\" transform=\"rotate(0 24.299999999999997 1.4400000000000002)\"><tspan x=\"24.299999999999997\" dy=\"9.600000000000001\">TxAnt</tspan></text><text x=\"17.82\" y=\"-64.02\" fill=\"black\" font-size=\"6\" font-family=\"sans\" text-anchor=\"middle\" transform=\"rotate(0 17.82 -59.21999999999999)\"><tspan x=\"17.82\" dy=\"4.800000000000001\">gain=3.00dB</tspan></text></svg>"
      ],
      "text/plain": [
       "<svg xmlns=\"http://www.w3.org/2000/svg\" xml:lang=\"en\" height=\"104.43999999999998pt\" width=\"66.09460000000001pt\" viewBox=\"-9.4358 -80.83999999999999 66.09460000000001 104.43999999999998\"><path d=\"M 0.0,-0.0 L 12.149999999999999,-0.0 L 24.299999999999997,-0.0\" style=\"stroke:black;fill:none;stroke-width:2.0;stroke-linecap:round;stroke-linejoin:round;\" /><path d=\"M 24.299999999999997,-0.0 L 24.299999999999997,-19.439999999999998 L 11.988,-38.879999999999995 L 36.611999999999995,-38.879999999999995 L 24.299999999999997,-19.439999999999998\" style=\"stroke:black;fill:none;stroke-width:2.0;stroke-linecap:round;stroke-linejoin:round;\" /><text x=\"24.299999999999997\" y=\"1.4399999999999995\" fill=\"black\" font-size=\"12\" font-family=\"sans\" text-anchor=\"middle\" transform=\"rotate(0 24.299999999999997 1.4400000000000002)\"><tspan x=\"24.299999999999997\" dy=\"9.600000000000001\">TxAnt</tspan></text><text x=\"17.82\" y=\"-64.02\" fill=\"black\" font-size=\"6\" font-family=\"sans\" text-anchor=\"middle\" transform=\"rotate(0 17.82 -59.21999999999999)\"><tspan x=\"17.82\" dy=\"4.800000000000001\">gain=3.00dB</tspan></text></svg>"
      ]
     },
     "metadata": {},
     "output_type": "display_data"
    }
   ],
   "source": [
    "tx_antenna = Antenna(\n",
    "    name='TxAnt',\n",
    "    gain=dB(3),\n",
    ")\n",
    "d = into_schemdraw([tx_antenna], {'with_gain': True})"
   ]
  },
  {
   "cell_type": "markdown",
   "id": "26b9567a-11db-4420-9fdc-796287821093",
   "metadata": {},
   "source": [
    "Assuming the airplane is at 30km from the ground, we need to compute the actual free space loss thanks to the Friis formula:"
   ]
  },
  {
   "cell_type": "code",
   "execution_count": 4,
   "id": "391fb9ac-f67f-4310-aeb6-1a1a3fb22576",
   "metadata": {},
   "outputs": [
    {
     "data": {
      "image/svg+xml": [
       "<svg xmlns=\"http://www.w3.org/2000/svg\" xml:lang=\"en\" height=\"101.20000000000002pt\" width=\"99.58pt\" viewBox=\"-5.24 -64.64000000000001 99.58 101.20000000000002\"><path d=\"M 0.0,-0.0 L 12.149999999999999,-0.0 L 24.299999999999997,-0.0\" style=\"stroke:black;fill:none;stroke-width:2.0;stroke-linecap:round;stroke-linejoin:round;\" /><path d=\"M 24.299999999999997,-0.0 L 24.299999999999997,-16.2 L 56.699999999999996,-16.2 L 56.699999999999996,16.2 L 24.299999999999997,16.2 L 24.299999999999997,-0.0\" style=\"stroke:black;fill:#eeeeff;stroke-width:2.0;stroke-linecap:round;stroke-linejoin:round;\" /><path d=\"M 56.699999999999996,-0.0 L 72.89999999999999,-0.0 L 81.0,-0.0\" style=\"stroke:black;fill:none;stroke-width:2.0;stroke-linecap:round;stroke-linejoin:round;\" /><path d=\"M 87.1 0.0 L 81.0 2.4299999999999997 L 81.0 -2.4299999999999997 Z\" style=\"stroke:black;fill:black;stroke-linecap:butt;stroke-linejoin:miter;\" /><text x=\"40.5\" y=\"14.399999999999999\" fill=\"black\" font-size=\"12\" font-family=\"sans\" text-anchor=\"middle\" transform=\"rotate(0 40.5 14.399999999999999)\"><tspan x=\"40.5\" dy=\"9.600000000000001\">FPSL</tspan></text><text x=\"34.02\" y=\"-48.54\" fill=\"black\" font-size=\"6\" font-family=\"sans\" text-anchor=\"middle\" transform=\"rotate(0 34.02 -36.54)\"><tspan x=\"34.02\" dy=\"6\">d=30000.00m</tspan><tspan x=\"34.02\" dy=\"6\">gain=-122.74dB</tspan></text></svg>"
      ],
      "text/plain": [
       "<svg xmlns=\"http://www.w3.org/2000/svg\" xml:lang=\"en\" height=\"101.20000000000002pt\" width=\"99.58pt\" viewBox=\"-5.24 -64.64000000000001 99.58 101.20000000000002\"><path d=\"M 0.0,-0.0 L 12.149999999999999,-0.0 L 24.299999999999997,-0.0\" style=\"stroke:black;fill:none;stroke-width:2.0;stroke-linecap:round;stroke-linejoin:round;\" /><path d=\"M 24.299999999999997,-0.0 L 24.299999999999997,-16.2 L 56.699999999999996,-16.2 L 56.699999999999996,16.2 L 24.299999999999997,16.2 L 24.299999999999997,-0.0\" style=\"stroke:black;fill:#eeeeff;stroke-width:2.0;stroke-linecap:round;stroke-linejoin:round;\" /><path d=\"M 56.699999999999996,-0.0 L 72.89999999999999,-0.0 L 81.0,-0.0\" style=\"stroke:black;fill:none;stroke-width:2.0;stroke-linecap:round;stroke-linejoin:round;\" /><path d=\"M 87.1 0.0 L 81.0 2.4299999999999997 L 81.0 -2.4299999999999997 Z\" style=\"stroke:black;fill:black;stroke-linecap:butt;stroke-linejoin:miter;\" /><text x=\"40.5\" y=\"14.399999999999999\" fill=\"black\" font-size=\"12\" font-family=\"sans\" text-anchor=\"middle\" transform=\"rotate(0 40.5 14.399999999999999)\"><tspan x=\"40.5\" dy=\"9.600000000000001\">FPSL</tspan></text><text x=\"34.02\" y=\"-48.54\" fill=\"black\" font-size=\"6\" font-family=\"sans\" text-anchor=\"middle\" transform=\"rotate(0 34.02 -36.54)\"><tspan x=\"34.02\" dy=\"6\">d=30000.00m</tspan><tspan x=\"34.02\" dy=\"6\">gain=-122.74dB</tspan></text></svg>"
      ]
     },
     "metadata": {},
     "output_type": "display_data"
    }
   ],
   "source": [
    "freespace = FreeSpacePathLossFriis(\n",
    "    distance = km(30),\n",
    "    freq = adsb_freq,\n",
    ")\n",
    "d = into_schemdraw([freespace], {'with_gain': True})"
   ]
  },
  {
   "cell_type": "markdown",
   "id": "25f63c48-a935-41c5-85c7-1ba51f314a3a",
   "metadata": {},
   "source": [
    "The receiving antenna on the ground is omni-directional so let's assume it has no gain."
   ]
  },
  {
   "cell_type": "code",
   "execution_count": 5,
   "id": "fad3bdb9-f306-4c04-a377-04d77954b858",
   "metadata": {},
   "outputs": [
    {
     "data": {
      "image/svg+xml": [
       "<svg xmlns=\"http://www.w3.org/2000/svg\" xml:lang=\"en\" height=\"104.43999999999998pt\" width=\"66.6454pt\" viewBox=\"-9.4358 -80.83999999999999 66.6454 104.43999999999998\"><path d=\"M 0.0,-0.0 L 12.149999999999999,-0.0 L 24.299999999999997,-0.0\" style=\"stroke:black;fill:none;stroke-width:2.0;stroke-linecap:round;stroke-linejoin:round;\" /><path d=\"M 24.299999999999997,-0.0 L 24.299999999999997,-19.439999999999998 L 11.988,-38.879999999999995 L 36.611999999999995,-38.879999999999995 L 24.299999999999997,-19.439999999999998\" style=\"stroke:black;fill:none;stroke-width:2.0;stroke-linecap:round;stroke-linejoin:round;\" /><text x=\"24.299999999999997\" y=\"1.4399999999999995\" fill=\"black\" font-size=\"12\" font-family=\"sans\" text-anchor=\"middle\" transform=\"rotate(0 24.299999999999997 1.4400000000000002)\"><tspan x=\"24.299999999999997\" dy=\"9.600000000000001\">RxAnt</tspan></text><text x=\"17.82\" y=\"-64.02\" fill=\"black\" font-size=\"6\" font-family=\"sans\" text-anchor=\"middle\" transform=\"rotate(0 17.82 -59.21999999999999)\"><tspan x=\"17.82\" dy=\"4.800000000000001\">gain=0.00dB</tspan></text></svg>"
      ],
      "text/plain": [
       "<svg xmlns=\"http://www.w3.org/2000/svg\" xml:lang=\"en\" height=\"104.43999999999998pt\" width=\"66.6454pt\" viewBox=\"-9.4358 -80.83999999999999 66.6454 104.43999999999998\"><path d=\"M 0.0,-0.0 L 12.149999999999999,-0.0 L 24.299999999999997,-0.0\" style=\"stroke:black;fill:none;stroke-width:2.0;stroke-linecap:round;stroke-linejoin:round;\" /><path d=\"M 24.299999999999997,-0.0 L 24.299999999999997,-19.439999999999998 L 11.988,-38.879999999999995 L 36.611999999999995,-38.879999999999995 L 24.299999999999997,-19.439999999999998\" style=\"stroke:black;fill:none;stroke-width:2.0;stroke-linecap:round;stroke-linejoin:round;\" /><text x=\"24.299999999999997\" y=\"1.4399999999999995\" fill=\"black\" font-size=\"12\" font-family=\"sans\" text-anchor=\"middle\" transform=\"rotate(0 24.299999999999997 1.4400000000000002)\"><tspan x=\"24.299999999999997\" dy=\"9.600000000000001\">RxAnt</tspan></text><text x=\"17.82\" y=\"-64.02\" fill=\"black\" font-size=\"6\" font-family=\"sans\" text-anchor=\"middle\" transform=\"rotate(0 17.82 -59.21999999999999)\"><tspan x=\"17.82\" dy=\"4.800000000000001\">gain=0.00dB</tspan></text></svg>"
      ]
     },
     "metadata": {},
     "output_type": "display_data"
    }
   ],
   "source": [
    "rx_antenna = Antenna(\n",
    "    name='RxAnt',\n",
    "    gain=dB(0),\n",
    ")\n",
    "d = into_schemdraw([rx_antenna], {'with_gain': True})"
   ]
  },
  {
   "cell_type": "markdown",
   "id": "7debc7fe-9b75-4a99-8e2c-29e16b6c1ab5",
   "metadata": {},
   "source": [
    "We need to take into account other loss, like for the rain, cables, and so on. Note that in future version, atmospheric, and rain attenuation will be computed."
   ]
  },
  {
   "cell_type": "code",
   "execution_count": 6,
   "id": "c77cefa3-8a4f-4182-a757-54801a7ec0d2",
   "metadata": {},
   "outputs": [
    {
     "data": {
      "image/svg+xml": [
       "<svg xmlns=\"http://www.w3.org/2000/svg\" xml:lang=\"en\" height=\"94.72pt\" width=\"99.58pt\" viewBox=\"-5.24 -58.16 99.58 94.72\"><path d=\"M 0.0,-0.0 L 12.149999999999999,-0.0 L 24.299999999999997,-0.0\" style=\"stroke:black;fill:none;stroke-width:2.0;stroke-linecap:round;stroke-linejoin:round;\" /><path d=\"M 24.299999999999997,-0.0 L 24.299999999999997,-16.2 L 56.699999999999996,-16.2 L 56.699999999999996,16.2 L 24.299999999999997,16.2 L 24.299999999999997,-0.0\" style=\"stroke:black;fill:#ffeeee;stroke-width:2.0;stroke-linecap:round;stroke-linejoin:round;\" /><path d=\"M 56.699999999999996,-0.0 L 72.89999999999999,-0.0 L 81.0,-0.0\" style=\"stroke:black;fill:none;stroke-width:2.0;stroke-linecap:round;stroke-linejoin:round;\" /><path d=\"M 87.1 0.0 L 81.0 2.4299999999999997 L 81.0 -2.4299999999999997 Z\" style=\"stroke:black;fill:black;stroke-linecap:butt;stroke-linejoin:miter;\" /><text x=\"40.5\" y=\"14.399999999999999\" fill=\"black\" font-size=\"12\" font-family=\"sans\" text-anchor=\"middle\" transform=\"rotate(0 40.5 14.399999999999999)\"><tspan x=\"40.5\" dy=\"9.600000000000001\">Various Loss</tspan></text><text x=\"34.02\" y=\"-41.34\" fill=\"black\" font-size=\"6\" font-family=\"sans\" text-anchor=\"middle\" transform=\"rotate(0 34.02 -36.54)\"><tspan x=\"34.02\" dy=\"4.800000000000001\">gain=-6.00dB</tspan></text></svg>"
      ],
      "text/plain": [
       "<svg xmlns=\"http://www.w3.org/2000/svg\" xml:lang=\"en\" height=\"94.72pt\" width=\"99.58pt\" viewBox=\"-5.24 -58.16 99.58 94.72\"><path d=\"M 0.0,-0.0 L 12.149999999999999,-0.0 L 24.299999999999997,-0.0\" style=\"stroke:black;fill:none;stroke-width:2.0;stroke-linecap:round;stroke-linejoin:round;\" /><path d=\"M 24.299999999999997,-0.0 L 24.299999999999997,-16.2 L 56.699999999999996,-16.2 L 56.699999999999996,16.2 L 24.299999999999997,16.2 L 24.299999999999997,-0.0\" style=\"stroke:black;fill:#ffeeee;stroke-width:2.0;stroke-linecap:round;stroke-linejoin:round;\" /><path d=\"M 56.699999999999996,-0.0 L 72.89999999999999,-0.0 L 81.0,-0.0\" style=\"stroke:black;fill:none;stroke-width:2.0;stroke-linecap:round;stroke-linejoin:round;\" /><path d=\"M 87.1 0.0 L 81.0 2.4299999999999997 L 81.0 -2.4299999999999997 Z\" style=\"stroke:black;fill:black;stroke-linecap:butt;stroke-linejoin:miter;\" /><text x=\"40.5\" y=\"14.399999999999999\" fill=\"black\" font-size=\"12\" font-family=\"sans\" text-anchor=\"middle\" transform=\"rotate(0 40.5 14.399999999999999)\"><tspan x=\"40.5\" dy=\"9.600000000000001\">Various Loss</tspan></text><text x=\"34.02\" y=\"-41.34\" fill=\"black\" font-size=\"6\" font-family=\"sans\" text-anchor=\"middle\" transform=\"rotate(0 34.02 -36.54)\"><tspan x=\"34.02\" dy=\"4.800000000000001\">gain=-6.00dB</tspan></text></svg>"
      ]
     },
     "metadata": {},
     "output_type": "display_data"
    }
   ],
   "source": [
    "other_loss = Loss(name=\"Various Loss\", loss=dB(6))\n",
    "d = into_schemdraw([other_loss], {'with_gain': True})"
   ]
  },
  {
   "cell_type": "markdown",
   "id": "f8c0935c-6156-4926-bc0b-34edc48fa1a4",
   "metadata": {},
   "source": [
    "And now we would like to know if we would be able to decode the ADSB signal. So let's compute the overall budget."
   ]
  },
  {
   "cell_type": "code",
   "execution_count": 7,
   "id": "e3ecf391-23f1-4fa0-af2d-4b944d1c4e6d",
   "metadata": {},
   "outputs": [],
   "source": [
    "adbs_budget = budget(\n",
    "    elements=[tx_antenna, freespace, rx_antenna, other_loss],\n",
    "    input_freq=adsb_freq,\n",
    "    available_input_power=transmit_power_dbm,\n",
    "    signal_bandwidth=adsb_bandwidth,\n",
    "    without_oip=True\n",
    ")"
   ]
  },
  {
   "cell_type": "markdown",
   "id": "e60706eb-ad8f-4e53-b728-3c95033c1fc2",
   "metadata": {},
   "source": [
    "The overall signal link is thus:"
   ]
  },
  {
   "cell_type": "code",
   "execution_count": 8,
   "id": "d7160f53-9710-4a8e-a224-bdc5f3bf4797",
   "metadata": {},
   "outputs": [
    {
     "data": {
      "image/svg+xml": [
       "<svg xmlns=\"http://www.w3.org/2000/svg\" xml:lang=\"en\" height=\"117.39999999999999pt\" width=\"209.0758pt\" viewBox=\"-9.4358 -80.83999999999999 209.0758 117.39999999999999\"><path d=\"M 0.0,-0.0 L 12.149999999999999,-0.0 L 24.299999999999997,-0.0\" style=\"stroke:black;fill:none;stroke-width:2.0;stroke-linecap:round;stroke-linejoin:round;\" /><path d=\"M 24.299999999999997,-0.0 L 24.299999999999997,-19.439999999999998 L 11.988,-38.879999999999995 L 36.611999999999995,-38.879999999999995 L 24.299999999999997,-19.439999999999998\" style=\"stroke:black;fill:none;stroke-width:2.0;stroke-linecap:round;stroke-linejoin:round;\" /><path d=\"M 24.299999999999997,-0.0 L 36.449999999999996,-0.0 L 48.599999999999994,-0.0\" style=\"stroke:#FFFFFF00;fill:none;stroke-width:2.0;stroke-linecap:round;stroke-linejoin:round;\" /><path d=\"M 48.599999999999994,-0.0 L 48.599999999999994,-16.2 L 81.0,-16.2 L 81.0,16.2 L 48.599999999999994,16.2 L 48.599999999999994,-0.0\" style=\"stroke:black;fill:#eeeeff;stroke-width:2.0;stroke-linecap:round;stroke-linejoin:round;\" /><path d=\"M 81.0,-0.0 L 93.14999999999999,-0.0 L 105.3,-0.0\" style=\"stroke:#FFFFFF00;fill:none;stroke-width:2.0;stroke-linecap:round;stroke-linejoin:round;\" /><path d=\"M 105.3,-0.0 L 105.3,-19.439999999999998 L 92.988,-38.879999999999995 L 117.612,-38.879999999999995 L 105.3,-19.439999999999998\" style=\"stroke:black;fill:none;stroke-width:2.0;stroke-linecap:round;stroke-linejoin:round;\" /><path d=\"M 105.3,-0.0 L 117.44999999999999,-0.0 L 129.6,-0.0\" style=\"stroke:black;fill:none;stroke-width:2.0;stroke-linecap:round;stroke-linejoin:round;\" /><path d=\"M 129.6,-0.0 L 129.6,-16.2 L 162.0,-16.2 L 162.0,16.2 L 129.6,16.2 L 129.6,-0.0\" style=\"stroke:black;fill:#ffeeee;stroke-width:2.0;stroke-linecap:round;stroke-linejoin:round;\" /><path d=\"M 162.0,-0.0 L 178.2,-0.0 L 186.29999999999998,-0.0\" style=\"stroke:black;fill:none;stroke-width:2.0;stroke-linecap:round;stroke-linejoin:round;\" /><path d=\"M 192.39999999999998 0.0 L 186.29999999999995 2.4299999999999997 L 186.29999999999995 -2.4299999999999997 Z\" style=\"stroke:black;fill:black;stroke-linecap:butt;stroke-linejoin:miter;\" /><text x=\"24.299999999999997\" y=\"1.4399999999999995\" fill=\"black\" font-size=\"12\" font-family=\"sans\" text-anchor=\"middle\" transform=\"rotate(0 24.299999999999997 1.4400000000000002)\"><tspan x=\"24.299999999999997\" dy=\"9.600000000000001\">TxAnt</tspan></text><text x=\"17.82\" y=\"-64.02\" fill=\"black\" font-size=\"6\" font-family=\"sans\" text-anchor=\"middle\" transform=\"rotate(0 17.82 -59.21999999999999)\"><tspan x=\"17.82\" dy=\"4.800000000000001\">gain=3.00dB</tspan></text><text x=\"64.8\" y=\"14.399999999999999\" fill=\"black\" font-size=\"12\" font-family=\"sans\" text-anchor=\"middle\" transform=\"rotate(0 64.8 14.399999999999999)\"><tspan x=\"64.8\" dy=\"9.600000000000001\">FPSL</tspan></text><text x=\"58.32\" y=\"-54.54\" fill=\"black\" font-size=\"6\" font-family=\"sans\" text-anchor=\"middle\" transform=\"rotate(0 58.32 -36.54)\"><tspan x=\"58.32\" dy=\"6\">d=30000.00m</tspan><tspan x=\"58.32\" dy=\"6\">gain=-122.74dB</tspan><tspan x=\"58.32\" dy=\"6\">NF=122.74dB</tspan></text><text x=\"105.3\" y=\"1.4399999999999995\" fill=\"black\" font-size=\"12\" font-family=\"sans\" text-anchor=\"middle\" transform=\"rotate(0 105.3 1.4400000000000002)\"><tspan x=\"105.3\" dy=\"9.600000000000001\">RxAnt</tspan></text><text x=\"98.82\" y=\"-64.02\" fill=\"black\" font-size=\"6\" font-family=\"sans\" text-anchor=\"middle\" transform=\"rotate(0 98.82 -59.21999999999999)\"><tspan x=\"98.82\" dy=\"4.800000000000001\">gain=0.00dB</tspan></text><text x=\"145.79999999999998\" y=\"14.399999999999999\" fill=\"black\" font-size=\"12\" font-family=\"sans\" text-anchor=\"middle\" transform=\"rotate(0 145.79999999999998 14.399999999999999)\"><tspan x=\"145.79999999999998\" dy=\"9.600000000000001\">Various Loss</tspan></text><text x=\"139.32\" y=\"-48.54\" fill=\"black\" font-size=\"6\" font-family=\"sans\" text-anchor=\"middle\" transform=\"rotate(0 139.32 -36.54)\"><tspan x=\"139.32\" dy=\"6\">gain=-6.00dB</tspan><tspan x=\"139.32\" dy=\"6\">NF=6.00dB</tspan></text></svg>"
      ],
      "text/plain": [
       "<svg xmlns=\"http://www.w3.org/2000/svg\" xml:lang=\"en\" height=\"117.39999999999999pt\" width=\"209.0758pt\" viewBox=\"-9.4358 -80.83999999999999 209.0758 117.39999999999999\"><path d=\"M 0.0,-0.0 L 12.149999999999999,-0.0 L 24.299999999999997,-0.0\" style=\"stroke:black;fill:none;stroke-width:2.0;stroke-linecap:round;stroke-linejoin:round;\" /><path d=\"M 24.299999999999997,-0.0 L 24.299999999999997,-19.439999999999998 L 11.988,-38.879999999999995 L 36.611999999999995,-38.879999999999995 L 24.299999999999997,-19.439999999999998\" style=\"stroke:black;fill:none;stroke-width:2.0;stroke-linecap:round;stroke-linejoin:round;\" /><path d=\"M 24.299999999999997,-0.0 L 36.449999999999996,-0.0 L 48.599999999999994,-0.0\" style=\"stroke:#FFFFFF00;fill:none;stroke-width:2.0;stroke-linecap:round;stroke-linejoin:round;\" /><path d=\"M 48.599999999999994,-0.0 L 48.599999999999994,-16.2 L 81.0,-16.2 L 81.0,16.2 L 48.599999999999994,16.2 L 48.599999999999994,-0.0\" style=\"stroke:black;fill:#eeeeff;stroke-width:2.0;stroke-linecap:round;stroke-linejoin:round;\" /><path d=\"M 81.0,-0.0 L 93.14999999999999,-0.0 L 105.3,-0.0\" style=\"stroke:#FFFFFF00;fill:none;stroke-width:2.0;stroke-linecap:round;stroke-linejoin:round;\" /><path d=\"M 105.3,-0.0 L 105.3,-19.439999999999998 L 92.988,-38.879999999999995 L 117.612,-38.879999999999995 L 105.3,-19.439999999999998\" style=\"stroke:black;fill:none;stroke-width:2.0;stroke-linecap:round;stroke-linejoin:round;\" /><path d=\"M 105.3,-0.0 L 117.44999999999999,-0.0 L 129.6,-0.0\" style=\"stroke:black;fill:none;stroke-width:2.0;stroke-linecap:round;stroke-linejoin:round;\" /><path d=\"M 129.6,-0.0 L 129.6,-16.2 L 162.0,-16.2 L 162.0,16.2 L 129.6,16.2 L 129.6,-0.0\" style=\"stroke:black;fill:#ffeeee;stroke-width:2.0;stroke-linecap:round;stroke-linejoin:round;\" /><path d=\"M 162.0,-0.0 L 178.2,-0.0 L 186.29999999999998,-0.0\" style=\"stroke:black;fill:none;stroke-width:2.0;stroke-linecap:round;stroke-linejoin:round;\" /><path d=\"M 192.39999999999998 0.0 L 186.29999999999995 2.4299999999999997 L 186.29999999999995 -2.4299999999999997 Z\" style=\"stroke:black;fill:black;stroke-linecap:butt;stroke-linejoin:miter;\" /><text x=\"24.299999999999997\" y=\"1.4399999999999995\" fill=\"black\" font-size=\"12\" font-family=\"sans\" text-anchor=\"middle\" transform=\"rotate(0 24.299999999999997 1.4400000000000002)\"><tspan x=\"24.299999999999997\" dy=\"9.600000000000001\">TxAnt</tspan></text><text x=\"17.82\" y=\"-64.02\" fill=\"black\" font-size=\"6\" font-family=\"sans\" text-anchor=\"middle\" transform=\"rotate(0 17.82 -59.21999999999999)\"><tspan x=\"17.82\" dy=\"4.800000000000001\">gain=3.00dB</tspan></text><text x=\"64.8\" y=\"14.399999999999999\" fill=\"black\" font-size=\"12\" font-family=\"sans\" text-anchor=\"middle\" transform=\"rotate(0 64.8 14.399999999999999)\"><tspan x=\"64.8\" dy=\"9.600000000000001\">FPSL</tspan></text><text x=\"58.32\" y=\"-54.54\" fill=\"black\" font-size=\"6\" font-family=\"sans\" text-anchor=\"middle\" transform=\"rotate(0 58.32 -36.54)\"><tspan x=\"58.32\" dy=\"6\">d=30000.00m</tspan><tspan x=\"58.32\" dy=\"6\">gain=-122.74dB</tspan><tspan x=\"58.32\" dy=\"6\">NF=122.74dB</tspan></text><text x=\"105.3\" y=\"1.4399999999999995\" fill=\"black\" font-size=\"12\" font-family=\"sans\" text-anchor=\"middle\" transform=\"rotate(0 105.3 1.4400000000000002)\"><tspan x=\"105.3\" dy=\"9.600000000000001\">RxAnt</tspan></text><text x=\"98.82\" y=\"-64.02\" fill=\"black\" font-size=\"6\" font-family=\"sans\" text-anchor=\"middle\" transform=\"rotate(0 98.82 -59.21999999999999)\"><tspan x=\"98.82\" dy=\"4.800000000000001\">gain=0.00dB</tspan></text><text x=\"145.79999999999998\" y=\"14.399999999999999\" fill=\"black\" font-size=\"12\" font-family=\"sans\" text-anchor=\"middle\" transform=\"rotate(0 145.79999999999998 14.399999999999999)\"><tspan x=\"145.79999999999998\" dy=\"9.600000000000001\">Various Loss</tspan></text><text x=\"139.32\" y=\"-48.54\" fill=\"black\" font-size=\"6\" font-family=\"sans\" text-anchor=\"middle\" transform=\"rotate(0 139.32 -36.54)\"><tspan x=\"139.32\" dy=\"6\">gain=-6.00dB</tspan><tspan x=\"139.32\" dy=\"6\">NF=6.00dB</tspan></text></svg>"
      ]
     },
     "metadata": {},
     "output_type": "display_data"
    }
   ],
   "source": [
    "opt = {'with_gain': True, 'with_nf': True, 'simplified': True}\n",
    "d = adbs_budget.schemdraw(opt)"
   ]
  },
  {
   "cell_type": "code",
   "execution_count": 9,
   "id": "cce51bb6-5872-456e-8e85-d9e4c62e860c",
   "metadata": {},
   "outputs": [
    {
     "data": {
      "text/html": [
       "<div>\n",
       "\n",
       "<h3>RF budget with properties</h3>\n",
       "<table>\n",
       "<tr><td>Elements:</td><td>[1x4 rf.internal.rfbudget.Element]</td></tr>\n",
       "<tr><td>InputFrequency</td><td> 1090000000.0 Hz</td></tr>\n",
       "<tr><td>AvailableInputPower</td><td> 50.0  dBm</td></tr>\n",
       "<tr><td>SignalBandwidth</td><td> 2000000.0 Hz</td></tr>\n",
       "<tr><td>Solver</td><td>Friis</td></tr>\n",
       "</table>\n",
       "<h3>Analysis Results</h3>\n",
       "<table>\n",
       "<tr><td>ThermalNoise:</td><td>(dBm)</td> <td>-110.97</td> </tr>\n",
       "<tr><td>OutputFrequency:</td><td>(Hz)</td> <td>1090000000.00</td><td>1090000000.00</td><td>1090000000.00</td><td>1090000000.00</td> </tr>\n",
       "<tr><td>OutputPower:</td><td>(dBm)</td> <td>53.00</td><td>-69.74</td><td>-69.74</td><td>-75.74</td> </tr>\n",
       "<tr><td>TransducerGain:</td><td>(dB)</td> <td>3.00</td><td>-119.74</td><td>-119.74</td><td>-125.74</td> </tr>\n",
       "<tr><td>Noisefigure:</td><td>(dB)</td> <td>0.00</td><td>119.74</td><td>119.74</td><td>125.74</td> </tr>\n",
       "<tr><td>SNR:</td><td>(dB)</td> <td>160.97</td><td>41.23</td><td>41.23</td><td>35.23</td> </tr>\n",
       "<tr><td>ChannelCapacity:</td><td>(bps)</td> <td>106944112.89</td><td>27390161.92</td><td>27390161.92</td><td>23404496.69</td> </tr>\n",
       "</table>\n",
       "</div>\n",
       "\n"
      ],
      "text/plain": [
       "<IPython.core.display.HTML object>"
      ]
     },
     "metadata": {},
     "output_type": "display_data"
    }
   ],
   "source": [
    "adbs_budget.display()"
   ]
  },
  {
   "cell_type": "code",
   "execution_count": null,
   "id": "c93d32cf-7246-4e6f-b5be-a924c6c3ee45",
   "metadata": {},
   "outputs": [],
   "source": []
  },
  {
   "cell_type": "code",
   "execution_count": null,
   "id": "cc5bbbf7-04b5-426d-9b02-536490bf4746",
   "metadata": {},
   "outputs": [],
   "source": []
  }
 ],
 "metadata": {
  "kernelspec": {
   "display_name": "Python 3 (ipykernel)",
   "language": "python",
   "name": "python3"
  },
  "language_info": {
   "codemirror_mode": {
    "name": "ipython",
    "version": 3
   },
   "file_extension": ".py",
   "mimetype": "text/x-python",
   "name": "python",
   "nbconvert_exporter": "python",
   "pygments_lexer": "ipython3",
   "version": "3.11.7"
  }
 },
 "nbformat": 4,
 "nbformat_minor": 5
}
