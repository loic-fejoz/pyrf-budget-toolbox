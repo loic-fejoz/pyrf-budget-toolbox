{
 "cells": [
  {
   "cell_type": "markdown",
   "id": "1de30a3f-f8da-4cef-b6e0-d39fa025d5ce",
   "metadata": {},
   "source": [
    "# IoT over Geostationary Satellite transponder\n",
    "\n",
    "This notebook is to do a rough computation of the radio budget link from an IoT-like device\n",
    "received via a geostationary satellite like QO-100\n",
    "\n",
    "So let's start by importing all of the library:"
   ]
  },
  {
   "cell_type": "code",
   "execution_count": 57,
   "id": "9defadaa-1de0-4229-a4d4-79dc88a9c33b",
   "metadata": {},
   "outputs": [],
   "source": [
    "from rfbudget import *"
   ]
  },
  {
   "cell_type": "markdown",
   "id": "ece5eb8f-6950-4bc5-a537-888389ea6d7c",
   "metadata": {},
   "source": [
    "First lets define few variables that clearly define the capability of the communication, especially the frequency, the bandwidth, and the initial transmitter power."
   ]
  },
  {
   "cell_type": "code",
   "execution_count": 58,
   "id": "68faa92c-0393-4451-b139-8c18a81bcebd",
   "metadata": {},
   "outputs": [],
   "source": [
    "up_freq = GHz(2.4)\n",
    "down_freq = GHz(10.486)\n",
    "transmit_power_dbm = watt_to_dBm(1)\n",
    "signal_bandwidth = kHz(2.5)\n",
    "sat_transmit_power_dbm = watt_to_dBm(50)"
   ]
  },
  {
   "cell_type": "markdown",
   "id": "2763236a-3ad3-41bf-9330-67cfa1bdf3d0",
   "metadata": {},
   "source": [
    "Lets say that the antenna supported by the IoT-like device (eg buoy or sailor skipper) is a patch antenna so slightly directive because it is directed to the sky and provide limited gain:"
   ]
  },
  {
   "cell_type": "code",
   "execution_count": 59,
   "id": "1b837c7e-d9f3-4410-920c-a8303a6468e0",
   "metadata": {},
   "outputs": [
    {
     "data": {
      "image/svg+xml": [
       "<svg xmlns=\"http://www.w3.org/2000/svg\" xml:lang=\"en\" height=\"117.39999999999999pt\" width=\"72.57459999999999pt\" viewBox=\"-9.4358 -80.83999999999999 72.57459999999999 117.39999999999999\"><path d=\"M 0.0,-0.0 L 12.149999999999999,-0.0 L 24.299999999999997,-0.0\" style=\"stroke:black;fill:none;stroke-width:2.0;stroke-linecap:round;stroke-linejoin:round;\" /><path d=\"M 24.299999999999997,-0.0 L 24.299999999999997,-19.439999999999998 L 11.988,-38.879999999999995 L 36.611999999999995,-38.879999999999995 L 24.299999999999997,-19.439999999999998\" style=\"stroke:black;fill:none;stroke-width:2.0;stroke-linecap:round;stroke-linejoin:round;\" /><text x=\"24.299999999999997\" y=\"1.4400000000000013\" fill=\"black\" font-size=\"12\" font-family=\"sans\" text-anchor=\"middle\" transform=\"rotate(0 24.299999999999997 1.4400000000000002)\"><tspan x=\"24.299999999999997\" dy=\"12\">Patch</tspan><tspan x=\"24.299999999999997\" dy=\"12\">Antenna</tspan></text><text x=\"17.82\" y=\"-64.02\" fill=\"black\" font-size=\"6\" font-family=\"sans\" text-anchor=\"middle\" transform=\"rotate(0 17.82 -59.21999999999999)\"><tspan x=\"17.82\" dy=\"4.800000000000001\">gain=4.00dB</tspan></text></svg>"
      ],
      "text/plain": [
       "<svg xmlns=\"http://www.w3.org/2000/svg\" xml:lang=\"en\" height=\"117.39999999999999pt\" width=\"72.57459999999999pt\" viewBox=\"-9.4358 -80.83999999999999 72.57459999999999 117.39999999999999\"><path d=\"M 0.0,-0.0 L 12.149999999999999,-0.0 L 24.299999999999997,-0.0\" style=\"stroke:black;fill:none;stroke-width:2.0;stroke-linecap:round;stroke-linejoin:round;\" /><path d=\"M 24.299999999999997,-0.0 L 24.299999999999997,-19.439999999999998 L 11.988,-38.879999999999995 L 36.611999999999995,-38.879999999999995 L 24.299999999999997,-19.439999999999998\" style=\"stroke:black;fill:none;stroke-width:2.0;stroke-linecap:round;stroke-linejoin:round;\" /><text x=\"24.299999999999997\" y=\"1.4400000000000013\" fill=\"black\" font-size=\"12\" font-family=\"sans\" text-anchor=\"middle\" transform=\"rotate(0 24.299999999999997 1.4400000000000002)\"><tspan x=\"24.299999999999997\" dy=\"12\">Patch</tspan><tspan x=\"24.299999999999997\" dy=\"12\">Antenna</tspan></text><text x=\"17.82\" y=\"-64.02\" fill=\"black\" font-size=\"6\" font-family=\"sans\" text-anchor=\"middle\" transform=\"rotate(0 17.82 -59.21999999999999)\"><tspan x=\"17.82\" dy=\"4.800000000000001\">gain=4.00dB</tspan></text></svg>"
      ]
     },
     "metadata": {},
     "output_type": "display_data"
    }
   ],
   "source": [
    "tx_antenna = Antenna(\n",
    "    name='Patch\\nAntenna',\n",
    "    gain=dB(4),\n",
    ")\n",
    "d = into_schemdraw([tx_antenna], {'with_gain': True})"
   ]
  },
  {
   "cell_type": "markdown",
   "id": "b9ff25b5",
   "metadata": {},
   "source": [
    "Because the satellite is geostationary, it is at 36500km from the ground. Yet, we need to take into account the elevation of the satellite. Let's say it is at 29° of elevation."
   ]
  },
  {
   "cell_type": "code",
   "execution_count": 60,
   "id": "404264bf",
   "metadata": {},
   "outputs": [
    {
     "name": "stdout",
     "output_type": "stream",
     "text": [
      "Actual distance to the satellite: 38614.55km\n"
     ]
    }
   ],
   "source": [
    "slant = distance_max(degree(29), EARTH_RADIUS + km(35_700))\n",
    "print(\"Actual distance to the satellite: {0:.2f}km\".format(slant/km(1)))"
   ]
  },
  {
   "cell_type": "markdown",
   "id": "26b9567a-11db-4420-9fdc-796287821093",
   "metadata": {},
   "source": [
    " So we need to compute the actual free space loss thanks to the Friis formula."
   ]
  },
  {
   "cell_type": "code",
   "execution_count": 61,
   "id": "391fb9ac-f67f-4310-aeb6-1a1a3fb22576",
   "metadata": {},
   "outputs": [
    {
     "data": {
      "image/svg+xml": [
       "<svg xmlns=\"http://www.w3.org/2000/svg\" xml:lang=\"en\" height=\"101.20000000000002pt\" width=\"99.58pt\" viewBox=\"-5.24 -64.64000000000001 99.58 101.20000000000002\"><path d=\"M 0.0,-0.0 L 12.149999999999999,-0.0 L 24.299999999999997,-0.0\" style=\"stroke:black;fill:none;stroke-width:2.0;stroke-linecap:round;stroke-linejoin:round;\" /><path d=\"M 24.299999999999997,-0.0 L 24.299999999999997,-16.2 L 56.699999999999996,-16.2 L 56.699999999999996,16.2 L 24.299999999999997,16.2 L 24.299999999999997,-0.0\" style=\"stroke:black;fill:#eeeeff;stroke-width:2.0;stroke-linecap:round;stroke-linejoin:round;\" /><path d=\"M 56.699999999999996,-0.0 L 72.89999999999999,-0.0 L 81.0,-0.0\" style=\"stroke:black;fill:none;stroke-width:2.0;stroke-linecap:round;stroke-linejoin:round;\" /><path d=\"M 87.1 0.0 L 81.0 2.4299999999999997 L 81.0 -2.4299999999999997 Z\" style=\"stroke:black;fill:black;stroke-linecap:butt;stroke-linejoin:miter;\" /><text x=\"40.5\" y=\"14.399999999999999\" fill=\"black\" font-size=\"12\" font-family=\"sans\" text-anchor=\"middle\" transform=\"rotate(0 40.5 14.399999999999999)\"><tspan x=\"40.5\" dy=\"9.600000000000001\">FPSL</tspan></text><text x=\"34.02\" y=\"-48.54\" fill=\"black\" font-size=\"6\" font-family=\"sans\" text-anchor=\"middle\" transform=\"rotate(0 34.02 -36.54)\"><tspan x=\"34.02\" dy=\"6\">d=38614550.58m</tspan><tspan x=\"34.02\" dy=\"6\">gain=-191.79dB</tspan></text></svg>"
      ],
      "text/plain": [
       "<svg xmlns=\"http://www.w3.org/2000/svg\" xml:lang=\"en\" height=\"101.20000000000002pt\" width=\"99.58pt\" viewBox=\"-5.24 -64.64000000000001 99.58 101.20000000000002\"><path d=\"M 0.0,-0.0 L 12.149999999999999,-0.0 L 24.299999999999997,-0.0\" style=\"stroke:black;fill:none;stroke-width:2.0;stroke-linecap:round;stroke-linejoin:round;\" /><path d=\"M 24.299999999999997,-0.0 L 24.299999999999997,-16.2 L 56.699999999999996,-16.2 L 56.699999999999996,16.2 L 24.299999999999997,16.2 L 24.299999999999997,-0.0\" style=\"stroke:black;fill:#eeeeff;stroke-width:2.0;stroke-linecap:round;stroke-linejoin:round;\" /><path d=\"M 56.699999999999996,-0.0 L 72.89999999999999,-0.0 L 81.0,-0.0\" style=\"stroke:black;fill:none;stroke-width:2.0;stroke-linecap:round;stroke-linejoin:round;\" /><path d=\"M 87.1 0.0 L 81.0 2.4299999999999997 L 81.0 -2.4299999999999997 Z\" style=\"stroke:black;fill:black;stroke-linecap:butt;stroke-linejoin:miter;\" /><text x=\"40.5\" y=\"14.399999999999999\" fill=\"black\" font-size=\"12\" font-family=\"sans\" text-anchor=\"middle\" transform=\"rotate(0 40.5 14.399999999999999)\"><tspan x=\"40.5\" dy=\"9.600000000000001\">FPSL</tspan></text><text x=\"34.02\" y=\"-48.54\" fill=\"black\" font-size=\"6\" font-family=\"sans\" text-anchor=\"middle\" transform=\"rotate(0 34.02 -36.54)\"><tspan x=\"34.02\" dy=\"6\">d=38614550.58m</tspan><tspan x=\"34.02\" dy=\"6\">gain=-191.79dB</tspan></text></svg>"
      ]
     },
     "metadata": {},
     "output_type": "display_data"
    }
   ],
   "source": [
    "\n",
    "freespace_up = FreeSpacePathLossFriis(\n",
    "    distance = slant,\n",
    "    freq = up_freq,\n",
    ")\n",
    "d = into_schemdraw([freespace_up], {'with_gain': True})"
   ]
  },
  {
   "cell_type": "markdown",
   "id": "7ca1b614",
   "metadata": {},
   "source": [
    "But we also need to take into account the atmospheric loss. Let's say 1dB."
   ]
  },
  {
   "cell_type": "code",
   "execution_count": 62,
   "id": "26321148",
   "metadata": {},
   "outputs": [
    {
     "data": {
      "image/svg+xml": [
       "<svg xmlns=\"http://www.w3.org/2000/svg\" xml:lang=\"en\" height=\"107.68pt\" width=\"99.58pt\" viewBox=\"-5.24 -58.16 99.58 107.68\"><path d=\"M 0.0,-0.0 L 12.149999999999999,-0.0 L 24.299999999999997,-0.0\" style=\"stroke:black;fill:none;stroke-width:2.0;stroke-linecap:round;stroke-linejoin:round;\" /><path d=\"M 24.299999999999997,-0.0 L 24.299999999999997,-16.2 L 56.699999999999996,-16.2 L 56.699999999999996,16.2 L 24.299999999999997,16.2 L 24.299999999999997,-0.0\" style=\"stroke:black;fill:#ffeeee;stroke-width:2.0;stroke-linecap:round;stroke-linejoin:round;\" /><path d=\"M 56.699999999999996,-0.0 L 72.89999999999999,-0.0 L 81.0,-0.0\" style=\"stroke:black;fill:none;stroke-width:2.0;stroke-linecap:round;stroke-linejoin:round;\" /><path d=\"M 87.1 0.0 L 81.0 2.4299999999999997 L 81.0 -2.4299999999999997 Z\" style=\"stroke:black;fill:black;stroke-linecap:butt;stroke-linejoin:miter;\" /><text x=\"40.5\" y=\"14.399999999999999\" fill=\"black\" font-size=\"12\" font-family=\"sans\" text-anchor=\"middle\" transform=\"rotate(0 40.5 14.399999999999999)\"><tspan x=\"40.5\" dy=\"12\">Atmospheric</tspan><tspan x=\"40.5\" dy=\"12\">loss</tspan></text><text x=\"34.02\" y=\"-41.34\" fill=\"black\" font-size=\"6\" font-family=\"sans\" text-anchor=\"middle\" transform=\"rotate(0 34.02 -36.54)\"><tspan x=\"34.02\" dy=\"4.800000000000001\">gain=-1.00dB</tspan></text></svg>"
      ],
      "text/plain": [
       "<svg xmlns=\"http://www.w3.org/2000/svg\" xml:lang=\"en\" height=\"107.68pt\" width=\"99.58pt\" viewBox=\"-5.24 -58.16 99.58 107.68\"><path d=\"M 0.0,-0.0 L 12.149999999999999,-0.0 L 24.299999999999997,-0.0\" style=\"stroke:black;fill:none;stroke-width:2.0;stroke-linecap:round;stroke-linejoin:round;\" /><path d=\"M 24.299999999999997,-0.0 L 24.299999999999997,-16.2 L 56.699999999999996,-16.2 L 56.699999999999996,16.2 L 24.299999999999997,16.2 L 24.299999999999997,-0.0\" style=\"stroke:black;fill:#ffeeee;stroke-width:2.0;stroke-linecap:round;stroke-linejoin:round;\" /><path d=\"M 56.699999999999996,-0.0 L 72.89999999999999,-0.0 L 81.0,-0.0\" style=\"stroke:black;fill:none;stroke-width:2.0;stroke-linecap:round;stroke-linejoin:round;\" /><path d=\"M 87.1 0.0 L 81.0 2.4299999999999997 L 81.0 -2.4299999999999997 Z\" style=\"stroke:black;fill:black;stroke-linecap:butt;stroke-linejoin:miter;\" /><text x=\"40.5\" y=\"14.399999999999999\" fill=\"black\" font-size=\"12\" font-family=\"sans\" text-anchor=\"middle\" transform=\"rotate(0 40.5 14.399999999999999)\"><tspan x=\"40.5\" dy=\"12\">Atmospheric</tspan><tspan x=\"40.5\" dy=\"12\">loss</tspan></text><text x=\"34.02\" y=\"-41.34\" fill=\"black\" font-size=\"6\" font-family=\"sans\" text-anchor=\"middle\" transform=\"rotate(0 34.02 -36.54)\"><tspan x=\"34.02\" dy=\"4.800000000000001\">gain=-1.00dB</tspan></text></svg>"
      ]
     },
     "metadata": {},
     "output_type": "display_data"
    }
   ],
   "source": [
    "atmo_loss = PathLoss(name=\"Atmospheric\\nloss\", loss=dB(1))\n",
    "d = into_schemdraw([atmo_loss], {'with_gain': True})"
   ]
  },
  {
   "cell_type": "markdown",
   "id": "25f63c48-a935-41c5-85c7-1ba51f314a3a",
   "metadata": {},
   "source": [
    "The receiving antenna of the satellite is semi-directional so let's assume it has no gain."
   ]
  },
  {
   "cell_type": "code",
   "execution_count": 63,
   "id": "fad3bdb9-f306-4c04-a377-04d77954b858",
   "metadata": {},
   "outputs": [
    {
     "data": {
      "image/svg+xml": [
       "<svg xmlns=\"http://www.w3.org/2000/svg\" xml:lang=\"en\" height=\"104.43999999999998pt\" width=\"75.9928pt\" viewBox=\"-10.4564 -80.83999999999999 75.9928 104.43999999999998\"><path d=\"M 0.0,-0.0 L 12.149999999999999,-0.0 L 24.299999999999997,-0.0\" style=\"stroke:black;fill:none;stroke-width:2.0;stroke-linecap:round;stroke-linejoin:round;\" /><path d=\"M 24.299999999999997,-0.0 L 24.299999999999997,-19.439999999999998 L 11.988,-38.879999999999995 L 36.611999999999995,-38.879999999999995 L 24.299999999999997,-19.439999999999998\" style=\"stroke:black;fill:none;stroke-width:2.0;stroke-linecap:round;stroke-linejoin:round;\" /><text x=\"24.299999999999997\" y=\"1.4399999999999995\" fill=\"black\" font-size=\"12\" font-family=\"sans\" text-anchor=\"middle\" transform=\"rotate(0 24.299999999999997 1.4400000000000002)\"><tspan x=\"24.299999999999997\" dy=\"9.600000000000001\">RxSatAnt</tspan></text><text x=\"17.82\" y=\"-64.02\" fill=\"black\" font-size=\"6\" font-family=\"sans\" text-anchor=\"middle\" transform=\"rotate(0 17.82 -59.21999999999999)\"><tspan x=\"17.82\" dy=\"4.800000000000001\">gain=5.00dB</tspan></text></svg>"
      ],
      "text/plain": [
       "<svg xmlns=\"http://www.w3.org/2000/svg\" xml:lang=\"en\" height=\"104.43999999999998pt\" width=\"75.9928pt\" viewBox=\"-10.4564 -80.83999999999999 75.9928 104.43999999999998\"><path d=\"M 0.0,-0.0 L 12.149999999999999,-0.0 L 24.299999999999997,-0.0\" style=\"stroke:black;fill:none;stroke-width:2.0;stroke-linecap:round;stroke-linejoin:round;\" /><path d=\"M 24.299999999999997,-0.0 L 24.299999999999997,-19.439999999999998 L 11.988,-38.879999999999995 L 36.611999999999995,-38.879999999999995 L 24.299999999999997,-19.439999999999998\" style=\"stroke:black;fill:none;stroke-width:2.0;stroke-linecap:round;stroke-linejoin:round;\" /><text x=\"24.299999999999997\" y=\"1.4399999999999995\" fill=\"black\" font-size=\"12\" font-family=\"sans\" text-anchor=\"middle\" transform=\"rotate(0 24.299999999999997 1.4400000000000002)\"><tspan x=\"24.299999999999997\" dy=\"9.600000000000001\">RxSatAnt</tspan></text><text x=\"17.82\" y=\"-64.02\" fill=\"black\" font-size=\"6\" font-family=\"sans\" text-anchor=\"middle\" transform=\"rotate(0 17.82 -59.21999999999999)\"><tspan x=\"17.82\" dy=\"4.800000000000001\">gain=5.00dB</tspan></text></svg>"
      ]
     },
     "metadata": {},
     "output_type": "display_data"
    }
   ],
   "source": [
    "rx_sat_antenna = Antenna(\n",
    "    name='RxSatAnt',\n",
    "    gain=dB(5),\n",
    "    nf=2.5,\n",
    ")\n",
    "d = into_schemdraw([rx_sat_antenna], {'with_gain': True})"
   ]
  },
  {
   "cell_type": "markdown",
   "id": "c295d736",
   "metadata": {},
   "source": [
    "The uplink budget is thus:"
   ]
  },
  {
   "cell_type": "code",
   "execution_count": 64,
   "id": "ec197d72",
   "metadata": {},
   "outputs": [
    {
     "data": {
      "image/svg+xml": [
       "<svg xmlns=\"http://www.w3.org/2000/svg\" xml:lang=\"en\" height=\"136.83999999999997pt\" width=\"212.67219999999998pt\" viewBox=\"-9.4358 -87.32 212.67219999999998 136.83999999999997\"><path d=\"M 0.0,-0.0 L 12.149999999999999,-0.0 L 24.299999999999997,-0.0\" style=\"stroke:black;fill:none;stroke-width:2.0;stroke-linecap:round;stroke-linejoin:round;\" /><path d=\"M 24.299999999999997,-0.0 L 24.299999999999997,-19.439999999999998 L 11.988,-38.879999999999995 L 36.611999999999995,-38.879999999999995 L 24.299999999999997,-19.439999999999998\" style=\"stroke:black;fill:none;stroke-width:2.0;stroke-linecap:round;stroke-linejoin:round;\" /><path d=\"M 24.299999999999997,-0.0 L 36.449999999999996,-0.0 L 48.599999999999994,-0.0\" style=\"stroke:#FFFFFF00;fill:none;stroke-width:2.0;stroke-linecap:round;stroke-linejoin:round;\" /><path d=\"M 48.599999999999994,-0.0 L 48.599999999999994,-16.2 L 81.0,-16.2 L 81.0,16.2 L 48.599999999999994,16.2 L 48.599999999999994,-0.0\" style=\"stroke:black;fill:#eeeeff;stroke-width:2.0;stroke-linecap:round;stroke-linejoin:round;\" /><path d=\"M 81.0,-0.0 L 93.14999999999999,-0.0 L 105.3,-0.0\" style=\"stroke:#FFFFFF00;fill:none;stroke-width:2.0;stroke-linecap:round;stroke-linejoin:round;\" /><path d=\"M 105.3,-0.0 L 105.3,-16.2 L 137.7,-16.2 L 137.7,16.2 L 105.3,16.2 L 105.3,-0.0\" style=\"stroke:black;fill:#ffeeee;stroke-width:2.0;stroke-linecap:round;stroke-linejoin:round;\" /><path d=\"M 137.7,-0.0 L 149.85,-0.0 L 162.0,-0.0\" style=\"stroke:#FFFFFF00;fill:none;stroke-width:2.0;stroke-linecap:round;stroke-linejoin:round;\" /><path d=\"M 162.0,-0.0 L 162.0,-19.439999999999998 L 149.688,-38.879999999999995 L 174.31199999999998,-38.879999999999995 L 162.0,-19.439999999999998\" style=\"stroke:black;fill:none;stroke-width:2.0;stroke-linecap:round;stroke-linejoin:round;\" /><text x=\"24.299999999999997\" y=\"1.4400000000000013\" fill=\"black\" font-size=\"12\" font-family=\"sans\" text-anchor=\"middle\" transform=\"rotate(0 24.299999999999997 1.4400000000000002)\"><tspan x=\"24.299999999999997\" dy=\"12\">Patch</tspan><tspan x=\"24.299999999999997\" dy=\"12\">Antenna</tspan></text><text x=\"17.82\" y=\"-64.02\" fill=\"black\" font-size=\"6\" font-family=\"sans\" text-anchor=\"middle\" transform=\"rotate(0 17.82 -59.21999999999999)\"><tspan x=\"17.82\" dy=\"4.800000000000001\">gain=4.00dB</tspan></text><text x=\"64.8\" y=\"14.399999999999999\" fill=\"black\" font-size=\"12\" font-family=\"sans\" text-anchor=\"middle\" transform=\"rotate(0 64.8 14.399999999999999)\"><tspan x=\"64.8\" dy=\"9.600000000000001\">FPSL</tspan></text><text x=\"58.32\" y=\"-54.54\" fill=\"black\" font-size=\"6\" font-family=\"sans\" text-anchor=\"middle\" transform=\"rotate(0 58.32 -36.54)\"><tspan x=\"58.32\" dy=\"6\">d=38614550.58m</tspan><tspan x=\"58.32\" dy=\"6\">gain=-191.79dB</tspan><tspan x=\"58.32\" dy=\"6\">NF=191.79dB</tspan></text><text x=\"121.5\" y=\"14.399999999999999\" fill=\"black\" font-size=\"12\" font-family=\"sans\" text-anchor=\"middle\" transform=\"rotate(0 121.5 14.399999999999999)\"><tspan x=\"121.5\" dy=\"12\">Atmospheric</tspan><tspan x=\"121.5\" dy=\"12\">loss</tspan></text><text x=\"115.02\" y=\"-48.54\" fill=\"black\" font-size=\"6\" font-family=\"sans\" text-anchor=\"middle\" transform=\"rotate(0 115.02 -36.54)\"><tspan x=\"115.02\" dy=\"6\">gain=-1.00dB</tspan><tspan x=\"115.02\" dy=\"6\">NF=1.00dB</tspan></text><text x=\"162.0\" y=\"1.4399999999999995\" fill=\"black\" font-size=\"12\" font-family=\"sans\" text-anchor=\"middle\" transform=\"rotate(0 162.0 1.4400000000000002)\"><tspan x=\"162.0\" dy=\"9.600000000000001\">RxSatAnt</tspan></text><text x=\"155.51999999999998\" y=\"-71.22\" fill=\"black\" font-size=\"6\" font-family=\"sans\" text-anchor=\"middle\" transform=\"rotate(0 155.51999999999998 -59.21999999999999)\"><tspan x=\"155.51999999999998\" dy=\"6\">gain=5.00dB</tspan><tspan x=\"155.51999999999998\" dy=\"6\">NF=2.50dB</tspan></text></svg>"
      ],
      "text/plain": [
       "<svg xmlns=\"http://www.w3.org/2000/svg\" xml:lang=\"en\" height=\"136.83999999999997pt\" width=\"212.67219999999998pt\" viewBox=\"-9.4358 -87.32 212.67219999999998 136.83999999999997\"><path d=\"M 0.0,-0.0 L 12.149999999999999,-0.0 L 24.299999999999997,-0.0\" style=\"stroke:black;fill:none;stroke-width:2.0;stroke-linecap:round;stroke-linejoin:round;\" /><path d=\"M 24.299999999999997,-0.0 L 24.299999999999997,-19.439999999999998 L 11.988,-38.879999999999995 L 36.611999999999995,-38.879999999999995 L 24.299999999999997,-19.439999999999998\" style=\"stroke:black;fill:none;stroke-width:2.0;stroke-linecap:round;stroke-linejoin:round;\" /><path d=\"M 24.299999999999997,-0.0 L 36.449999999999996,-0.0 L 48.599999999999994,-0.0\" style=\"stroke:#FFFFFF00;fill:none;stroke-width:2.0;stroke-linecap:round;stroke-linejoin:round;\" /><path d=\"M 48.599999999999994,-0.0 L 48.599999999999994,-16.2 L 81.0,-16.2 L 81.0,16.2 L 48.599999999999994,16.2 L 48.599999999999994,-0.0\" style=\"stroke:black;fill:#eeeeff;stroke-width:2.0;stroke-linecap:round;stroke-linejoin:round;\" /><path d=\"M 81.0,-0.0 L 93.14999999999999,-0.0 L 105.3,-0.0\" style=\"stroke:#FFFFFF00;fill:none;stroke-width:2.0;stroke-linecap:round;stroke-linejoin:round;\" /><path d=\"M 105.3,-0.0 L 105.3,-16.2 L 137.7,-16.2 L 137.7,16.2 L 105.3,16.2 L 105.3,-0.0\" style=\"stroke:black;fill:#ffeeee;stroke-width:2.0;stroke-linecap:round;stroke-linejoin:round;\" /><path d=\"M 137.7,-0.0 L 149.85,-0.0 L 162.0,-0.0\" style=\"stroke:#FFFFFF00;fill:none;stroke-width:2.0;stroke-linecap:round;stroke-linejoin:round;\" /><path d=\"M 162.0,-0.0 L 162.0,-19.439999999999998 L 149.688,-38.879999999999995 L 174.31199999999998,-38.879999999999995 L 162.0,-19.439999999999998\" style=\"stroke:black;fill:none;stroke-width:2.0;stroke-linecap:round;stroke-linejoin:round;\" /><text x=\"24.299999999999997\" y=\"1.4400000000000013\" fill=\"black\" font-size=\"12\" font-family=\"sans\" text-anchor=\"middle\" transform=\"rotate(0 24.299999999999997 1.4400000000000002)\"><tspan x=\"24.299999999999997\" dy=\"12\">Patch</tspan><tspan x=\"24.299999999999997\" dy=\"12\">Antenna</tspan></text><text x=\"17.82\" y=\"-64.02\" fill=\"black\" font-size=\"6\" font-family=\"sans\" text-anchor=\"middle\" transform=\"rotate(0 17.82 -59.21999999999999)\"><tspan x=\"17.82\" dy=\"4.800000000000001\">gain=4.00dB</tspan></text><text x=\"64.8\" y=\"14.399999999999999\" fill=\"black\" font-size=\"12\" font-family=\"sans\" text-anchor=\"middle\" transform=\"rotate(0 64.8 14.399999999999999)\"><tspan x=\"64.8\" dy=\"9.600000000000001\">FPSL</tspan></text><text x=\"58.32\" y=\"-54.54\" fill=\"black\" font-size=\"6\" font-family=\"sans\" text-anchor=\"middle\" transform=\"rotate(0 58.32 -36.54)\"><tspan x=\"58.32\" dy=\"6\">d=38614550.58m</tspan><tspan x=\"58.32\" dy=\"6\">gain=-191.79dB</tspan><tspan x=\"58.32\" dy=\"6\">NF=191.79dB</tspan></text><text x=\"121.5\" y=\"14.399999999999999\" fill=\"black\" font-size=\"12\" font-family=\"sans\" text-anchor=\"middle\" transform=\"rotate(0 121.5 14.399999999999999)\"><tspan x=\"121.5\" dy=\"12\">Atmospheric</tspan><tspan x=\"121.5\" dy=\"12\">loss</tspan></text><text x=\"115.02\" y=\"-48.54\" fill=\"black\" font-size=\"6\" font-family=\"sans\" text-anchor=\"middle\" transform=\"rotate(0 115.02 -36.54)\"><tspan x=\"115.02\" dy=\"6\">gain=-1.00dB</tspan><tspan x=\"115.02\" dy=\"6\">NF=1.00dB</tspan></text><text x=\"162.0\" y=\"1.4399999999999995\" fill=\"black\" font-size=\"12\" font-family=\"sans\" text-anchor=\"middle\" transform=\"rotate(0 162.0 1.4400000000000002)\"><tspan x=\"162.0\" dy=\"9.600000000000001\">RxSatAnt</tspan></text><text x=\"155.51999999999998\" y=\"-71.22\" fill=\"black\" font-size=\"6\" font-family=\"sans\" text-anchor=\"middle\" transform=\"rotate(0 155.51999999999998 -59.21999999999999)\"><tspan x=\"155.51999999999998\" dy=\"6\">gain=5.00dB</tspan><tspan x=\"155.51999999999998\" dy=\"6\">NF=2.50dB</tspan></text></svg>"
      ]
     },
     "metadata": {},
     "output_type": "display_data"
    },
    {
     "data": {
      "text/html": [
       "<div>\n",
       "\n",
       "<h3>RF budget with properties</h3>\n",
       "<table>\n",
       "<tr><td>Elements:</td><td>[1x4 rf.internal.rfbudget.Element]</td></tr>\n",
       "<tr><td>InputFrequency</td><td> 2400000000.0 Hz</td></tr>\n",
       "<tr><td>AvailableInputPower</td><td> 30.0  dBm</td></tr>\n",
       "<tr><td>SignalBandwidth</td><td> 2500.0 Hz</td></tr>\n",
       "<tr><td>Solver</td><td>Friis</td></tr>\n",
       "</table>\n",
       "<h3>Analysis Results</h3>\n",
       "<table>\n",
       "<tr><td></td><td></td> <td><svg xmlns=\"http://www.w3.org/2000/svg\" xml:lang=\"en\" height=\"117.39999999999999pt\" width=\"72.57459999999999pt\" viewBox=\"-9.4358 -80.83999999999999 72.57459999999999 117.39999999999999\"><path d=\"M 0.0,-0.0 L 12.149999999999999,-0.0 L 24.299999999999997,-0.0\" style=\"stroke:black;fill:none;stroke-width:2.0;stroke-linecap:round;stroke-linejoin:round;\" /><path d=\"M 24.299999999999997,-0.0 L 24.299999999999997,-19.439999999999998 L 11.988,-38.879999999999995 L 36.611999999999995,-38.879999999999995 L 24.299999999999997,-19.439999999999998\" style=\"stroke:black;fill:none;stroke-width:2.0;stroke-linecap:round;stroke-linejoin:round;\" /><path d=\"M 0.0,-0.0 L 12.149999999999999,-0.0 L 24.299999999999997,-0.0\" style=\"stroke:black;fill:none;stroke-width:2.0;stroke-linecap:round;stroke-linejoin:round;\" /><path d=\"M 24.299999999999997,-0.0 L 24.299999999999997,-19.439999999999998 L 11.988,-38.879999999999995 L 36.611999999999995,-38.879999999999995 L 24.299999999999997,-19.439999999999998\" style=\"stroke:black;fill:none;stroke-width:2.0;stroke-linecap:round;stroke-linejoin:round;\" /><text x=\"24.299999999999997\" y=\"1.4400000000000013\" fill=\"black\" font-size=\"12\" font-family=\"sans\" text-anchor=\"middle\" transform=\"rotate(0 24.299999999999997 1.4400000000000002)\"><tspan x=\"24.299999999999997\" dy=\"12\">Patch</tspan><tspan x=\"24.299999999999997\" dy=\"12\">Antenna</tspan></text><text x=\"17.82\" y=\"-64.02\" fill=\"black\" font-size=\"6\" font-family=\"sans\" text-anchor=\"middle\" transform=\"rotate(0 17.82 -59.21999999999999)\"><tspan x=\"17.82\" dy=\"4.800000000000001\">gain=4.00dB</tspan></text><text x=\"24.299999999999997\" y=\"1.4400000000000013\" fill=\"black\" font-size=\"12\" font-family=\"sans\" text-anchor=\"middle\" transform=\"rotate(0 24.299999999999997 1.4400000000000002)\"><tspan x=\"24.299999999999997\" dy=\"12\">Patch</tspan><tspan x=\"24.299999999999997\" dy=\"12\">Antenna</tspan></text><text x=\"17.82\" y=\"-64.02\" fill=\"black\" font-size=\"6\" font-family=\"sans\" text-anchor=\"middle\" transform=\"rotate(0 17.82 -59.21999999999999)\"><tspan x=\"17.82\" dy=\"4.800000000000001\">gain=4.00dB</tspan></text></svg></td><td><svg xmlns=\"http://www.w3.org/2000/svg\" xml:lang=\"en\" height=\"106.60000000000001pt\" width=\"79.00600000000001pt\" viewBox=\"-5.24 -70.04 79.00600000000001 106.60000000000001\"><path d=\"M 0.0,-0.0 L 12.149999999999999,-0.0 L 24.299999999999997,-0.0\" style=\"stroke:black;fill:none;stroke-width:2.0;stroke-linecap:round;stroke-linejoin:round;\" /><path d=\"M 24.299999999999997,-0.0 L 24.299999999999997,-16.2 L 56.699999999999996,-16.2 L 56.699999999999996,16.2 L 24.299999999999997,16.2 L 24.299999999999997,-0.0\" style=\"stroke:black;fill:#eeeeff;stroke-width:2.0;stroke-linecap:round;stroke-linejoin:round;\" /><path d=\"M 0.0,-0.0 L 12.149999999999999,-0.0 L 24.299999999999997,-0.0\" style=\"stroke:black;fill:none;stroke-width:2.0;stroke-linecap:round;stroke-linejoin:round;\" /><path d=\"M 24.299999999999997,-0.0 L 24.299999999999997,-16.2 L 56.699999999999996,-16.2 L 56.699999999999996,16.2 L 24.299999999999997,16.2 L 24.299999999999997,-0.0\" style=\"stroke:black;fill:#eeeeff;stroke-width:2.0;stroke-linecap:round;stroke-linejoin:round;\" /><text x=\"40.5\" y=\"14.399999999999999\" fill=\"black\" font-size=\"12\" font-family=\"sans\" text-anchor=\"middle\" transform=\"rotate(0 40.5 14.399999999999999)\"><tspan x=\"40.5\" dy=\"9.600000000000001\">FPSL</tspan></text><text x=\"34.02\" y=\"-54.54\" fill=\"black\" font-size=\"6\" font-family=\"sans\" text-anchor=\"middle\" transform=\"rotate(0 34.02 -36.54)\"><tspan x=\"34.02\" dy=\"6\">d=38614550.58m</tspan><tspan x=\"34.02\" dy=\"6\">gain=-191.79dB</tspan><tspan x=\"34.02\" dy=\"6\">NF=191.79dB</tspan></text><text x=\"40.5\" y=\"14.399999999999999\" fill=\"black\" font-size=\"12\" font-family=\"sans\" text-anchor=\"middle\" transform=\"rotate(0 40.5 14.399999999999999)\"><tspan x=\"40.5\" dy=\"9.600000000000001\">FPSL</tspan></text><text x=\"34.02\" y=\"-54.54\" fill=\"black\" font-size=\"6\" font-family=\"sans\" text-anchor=\"middle\" transform=\"rotate(0 34.02 -36.54)\"><tspan x=\"34.02\" dy=\"6\">d=38614550.58m</tspan><tspan x=\"34.02\" dy=\"6\">gain=-191.79dB</tspan><tspan x=\"34.02\" dy=\"6\">NF=191.79dB</tspan></text></svg></td><td><svg xmlns=\"http://www.w3.org/2000/svg\" xml:lang=\"en\" height=\"114.16000000000001pt\" width=\"94.68759999999999pt\" viewBox=\"-5.24 -64.64000000000001 94.68759999999999 114.16000000000001\"><path d=\"M 0.0,-0.0 L 12.149999999999999,-0.0 L 24.299999999999997,-0.0\" style=\"stroke:black;fill:none;stroke-width:2.0;stroke-linecap:round;stroke-linejoin:round;\" /><path d=\"M 24.299999999999997,-0.0 L 24.299999999999997,-16.2 L 56.699999999999996,-16.2 L 56.699999999999996,16.2 L 24.299999999999997,16.2 L 24.299999999999997,-0.0\" style=\"stroke:black;fill:#ffeeee;stroke-width:2.0;stroke-linecap:round;stroke-linejoin:round;\" /><path d=\"M 0.0,-0.0 L 12.149999999999999,-0.0 L 24.299999999999997,-0.0\" style=\"stroke:black;fill:none;stroke-width:2.0;stroke-linecap:round;stroke-linejoin:round;\" /><path d=\"M 24.299999999999997,-0.0 L 24.299999999999997,-16.2 L 56.699999999999996,-16.2 L 56.699999999999996,16.2 L 24.299999999999997,16.2 L 24.299999999999997,-0.0\" style=\"stroke:black;fill:#ffeeee;stroke-width:2.0;stroke-linecap:round;stroke-linejoin:round;\" /><text x=\"40.5\" y=\"14.399999999999999\" fill=\"black\" font-size=\"12\" font-family=\"sans\" text-anchor=\"middle\" transform=\"rotate(0 40.5 14.399999999999999)\"><tspan x=\"40.5\" dy=\"12\">Atmospheric</tspan><tspan x=\"40.5\" dy=\"12\">loss</tspan></text><text x=\"34.02\" y=\"-48.54\" fill=\"black\" font-size=\"6\" font-family=\"sans\" text-anchor=\"middle\" transform=\"rotate(0 34.02 -36.54)\"><tspan x=\"34.02\" dy=\"6\">gain=-1.00dB</tspan><tspan x=\"34.02\" dy=\"6\">NF=1.00dB</tspan></text><text x=\"40.5\" y=\"14.399999999999999\" fill=\"black\" font-size=\"12\" font-family=\"sans\" text-anchor=\"middle\" transform=\"rotate(0 40.5 14.399999999999999)\"><tspan x=\"40.5\" dy=\"12\">Atmospheric</tspan><tspan x=\"40.5\" dy=\"12\">loss</tspan></text><text x=\"34.02\" y=\"-48.54\" fill=\"black\" font-size=\"6\" font-family=\"sans\" text-anchor=\"middle\" transform=\"rotate(0 34.02 -36.54)\"><tspan x=\"34.02\" dy=\"6\">gain=-1.00dB</tspan><tspan x=\"34.02\" dy=\"6\">NF=1.00dB</tspan></text></svg></td><td><svg xmlns=\"http://www.w3.org/2000/svg\" xml:lang=\"en\" height=\"110.91999999999999pt\" width=\"75.9928pt\" viewBox=\"-10.4564 -87.32 75.9928 110.91999999999999\"><path d=\"M 0.0,-0.0 L 12.149999999999999,-0.0 L 24.299999999999997,-0.0\" style=\"stroke:black;fill:none;stroke-width:2.0;stroke-linecap:round;stroke-linejoin:round;\" /><path d=\"M 24.299999999999997,-0.0 L 24.299999999999997,-19.439999999999998 L 11.988,-38.879999999999995 L 36.611999999999995,-38.879999999999995 L 24.299999999999997,-19.439999999999998\" style=\"stroke:black;fill:none;stroke-width:2.0;stroke-linecap:round;stroke-linejoin:round;\" /><path d=\"M 0.0,-0.0 L 12.149999999999999,-0.0 L 24.299999999999997,-0.0\" style=\"stroke:black;fill:none;stroke-width:2.0;stroke-linecap:round;stroke-linejoin:round;\" /><path d=\"M 24.299999999999997,-0.0 L 24.299999999999997,-19.439999999999998 L 11.988,-38.879999999999995 L 36.611999999999995,-38.879999999999995 L 24.299999999999997,-19.439999999999998\" style=\"stroke:black;fill:none;stroke-width:2.0;stroke-linecap:round;stroke-linejoin:round;\" /><text x=\"24.299999999999997\" y=\"1.4399999999999995\" fill=\"black\" font-size=\"12\" font-family=\"sans\" text-anchor=\"middle\" transform=\"rotate(0 24.299999999999997 1.4400000000000002)\"><tspan x=\"24.299999999999997\" dy=\"9.600000000000001\">RxSatAnt</tspan></text><text x=\"17.82\" y=\"-71.22\" fill=\"black\" font-size=\"6\" font-family=\"sans\" text-anchor=\"middle\" transform=\"rotate(0 17.82 -59.21999999999999)\"><tspan x=\"17.82\" dy=\"6\">gain=5.00dB</tspan><tspan x=\"17.82\" dy=\"6\">NF=2.50dB</tspan></text><text x=\"24.299999999999997\" y=\"1.4399999999999995\" fill=\"black\" font-size=\"12\" font-family=\"sans\" text-anchor=\"middle\" transform=\"rotate(0 24.299999999999997 1.4400000000000002)\"><tspan x=\"24.299999999999997\" dy=\"9.600000000000001\">RxSatAnt</tspan></text><text x=\"17.82\" y=\"-71.22\" fill=\"black\" font-size=\"6\" font-family=\"sans\" text-anchor=\"middle\" transform=\"rotate(0 17.82 -59.21999999999999)\"><tspan x=\"17.82\" dy=\"6\">gain=5.00dB</tspan><tspan x=\"17.82\" dy=\"6\">NF=2.50dB</tspan></text></svg></td> </tr>\n",
       "<tr><td>ThermalNoise:</td><td>(dBm)</td> <td>-136.99</td> </tr>\n",
       "<tr><td>OutputFrequency:</td><td>(Hz)</td> <td>2400000000.00</td><td>2400000000.00</td><td>2400000000.00</td><td>2400000000.00</td> </tr>\n",
       "<tr><td>OutputPower:</td><td>(dBm)</td> <td>34.00</td><td>-157.79</td><td>-158.79</td><td>-153.79</td> </tr>\n",
       "<tr><td>TransducerGain:</td><td>(dB)</td> <td>4.00</td><td>-187.79</td><td>-188.79</td><td>-183.79</td> </tr>\n",
       "<tr><td>Noisefigure:</td><td>(dB)</td> <td>0.00</td><td>187.79</td><td>188.79</td><td>191.29</td> </tr>\n",
       "<tr><td>SNR:</td><td>(dB)</td> <td>166.99</td><td>-20.80</td><td>-21.80</td><td>-24.30</td> </tr>\n",
       "<tr><td>ChannelCapacity:</td><td>(bps)</td> <td>138680.14</td><td>29.86</td><td>23.74</td><td>13.37</td> </tr>\n",
       "</table>\n",
       "</div>\n",
       "\n"
      ],
      "text/plain": [
       "<IPython.core.display.HTML object>"
      ]
     },
     "metadata": {},
     "output_type": "display_data"
    }
   ],
   "source": [
    "up_budget = budget(\n",
    "    elements=[tx_antenna, freespace_up, atmo_loss, rx_sat_antenna],\n",
    "    input_freq=up_freq,\n",
    "    available_input_power=transmit_power_dbm,\n",
    "    signal_bandwidth=signal_bandwidth,\n",
    "    without_oip=True,\n",
    "    T_receiver=kelvin(580)\n",
    ")\n",
    "opt = {'with_gain': True, 'with_nf': True, 'simplified': True}\n",
    "d = up_budget.schemdraw(opt)\n",
    "up_budget.display(with_icons=True, options=opt)"
   ]
  },
  {
   "cell_type": "markdown",
   "id": "7debc7fe-9b75-4a99-8e2c-29e16b6c1ab5",
   "metadata": {},
   "source": [
    "Note that in future version, atmospheric, rain attenuation, and polarization loss will be computed.\n",
    "\n",
    "What about the downlink budget?"
   ]
  },
  {
   "cell_type": "code",
   "execution_count": 65,
   "id": "e3ecf391-23f1-4fa0-af2d-4b944d1c4e6d",
   "metadata": {},
   "outputs": [
    {
     "data": {
      "image/svg+xml": [
       "<svg xmlns=\"http://www.w3.org/2000/svg\" xml:lang=\"en\" height=\"136.83999999999997pt\" width=\"212.26719999999997pt\" viewBox=\"-9.905600000000003 -87.32 212.26719999999997 136.83999999999997\"><path d=\"M 0.0,-0.0 L 12.149999999999999,-0.0 L 24.299999999999997,-0.0\" style=\"stroke:black;fill:none;stroke-width:2.0;stroke-linecap:round;stroke-linejoin:round;\" /><path d=\"M 24.299999999999997,-0.0 L 24.299999999999997,-19.439999999999998 L 11.988,-38.879999999999995 L 36.611999999999995,-38.879999999999995 L 24.299999999999997,-19.439999999999998\" style=\"stroke:black;fill:none;stroke-width:2.0;stroke-linecap:round;stroke-linejoin:round;\" /><path d=\"M 24.299999999999997,-0.0 L 36.449999999999996,-0.0 L 48.599999999999994,-0.0\" style=\"stroke:#FFFFFF00;fill:none;stroke-width:2.0;stroke-linecap:round;stroke-linejoin:round;\" /><path d=\"M 48.599999999999994,-0.0 L 48.599999999999994,-16.2 L 81.0,-16.2 L 81.0,16.2 L 48.599999999999994,16.2 L 48.599999999999994,-0.0\" style=\"stroke:black;fill:#eeeeff;stroke-width:2.0;stroke-linecap:round;stroke-linejoin:round;\" /><path d=\"M 81.0,-0.0 L 93.14999999999999,-0.0 L 105.3,-0.0\" style=\"stroke:#FFFFFF00;fill:none;stroke-width:2.0;stroke-linecap:round;stroke-linejoin:round;\" /><path d=\"M 105.3,-0.0 L 105.3,-16.2 L 137.7,-16.2 L 137.7,16.2 L 105.3,16.2 L 105.3,-0.0\" style=\"stroke:black;fill:#ffeeee;stroke-width:2.0;stroke-linecap:round;stroke-linejoin:round;\" /><path d=\"M 137.7,-0.0 L 149.85,-0.0 L 162.0,-0.0\" style=\"stroke:#FFFFFF00;fill:none;stroke-width:2.0;stroke-linecap:round;stroke-linejoin:round;\" /><path d=\"M 162.0,-0.0 L 162.0,-19.439999999999998 L 149.688,-38.879999999999995 L 174.31199999999998,-38.879999999999995 L 162.0,-19.439999999999998\" style=\"stroke:black;fill:none;stroke-width:2.0;stroke-linecap:round;stroke-linejoin:round;\" /><text x=\"24.299999999999997\" y=\"1.4399999999999995\" fill=\"black\" font-size=\"12\" font-family=\"sans\" text-anchor=\"middle\" transform=\"rotate(0 24.299999999999997 1.4400000000000002)\"><tspan x=\"24.299999999999997\" dy=\"9.600000000000001\">TxSatAnt</tspan></text><text x=\"17.82\" y=\"-71.22\" fill=\"black\" font-size=\"6\" font-family=\"sans\" text-anchor=\"middle\" transform=\"rotate(0 17.82 -59.21999999999999)\"><tspan x=\"17.82\" dy=\"6\">gain=3.00dB</tspan><tspan x=\"17.82\" dy=\"6\">NF=2.50dB</tspan></text><text x=\"64.8\" y=\"14.399999999999999\" fill=\"black\" font-size=\"12\" font-family=\"sans\" text-anchor=\"middle\" transform=\"rotate(0 64.8 14.399999999999999)\"><tspan x=\"64.8\" dy=\"9.600000000000001\">FPSL</tspan></text><text x=\"58.32\" y=\"-54.54\" fill=\"black\" font-size=\"6\" font-family=\"sans\" text-anchor=\"middle\" transform=\"rotate(0 58.32 -36.54)\"><tspan x=\"58.32\" dy=\"6\">d=38614550.58m</tspan><tspan x=\"58.32\" dy=\"6\">gain=-204.60dB</tspan><tspan x=\"58.32\" dy=\"6\">NF=204.60dB</tspan></text><text x=\"121.5\" y=\"14.399999999999999\" fill=\"black\" font-size=\"12\" font-family=\"sans\" text-anchor=\"middle\" transform=\"rotate(0 121.5 14.399999999999999)\"><tspan x=\"121.5\" dy=\"12\">Atmospheric</tspan><tspan x=\"121.5\" dy=\"12\">loss</tspan></text><text x=\"115.02\" y=\"-48.54\" fill=\"black\" font-size=\"6\" font-family=\"sans\" text-anchor=\"middle\" transform=\"rotate(0 115.02 -36.54)\"><tspan x=\"115.02\" dy=\"6\">gain=-1.00dB</tspan><tspan x=\"115.02\" dy=\"6\">NF=1.00dB</tspan></text><text x=\"162.0\" y=\"1.4399999999999995\" fill=\"black\" font-size=\"12\" font-family=\"sans\" text-anchor=\"middle\" transform=\"rotate(0 162.0 1.4400000000000002)\"><tspan x=\"162.0\" dy=\"9.600000000000001\">Parabole</tspan></text><text x=\"155.51999999999998\" y=\"-64.02\" fill=\"black\" font-size=\"6\" font-family=\"sans\" text-anchor=\"middle\" transform=\"rotate(0 155.51999999999998 -59.21999999999999)\"><tspan x=\"155.51999999999998\" dy=\"4.800000000000001\">gain=20.00dB</tspan></text></svg>"
      ],
      "text/plain": [
       "<svg xmlns=\"http://www.w3.org/2000/svg\" xml:lang=\"en\" height=\"136.83999999999997pt\" width=\"212.26719999999997pt\" viewBox=\"-9.905600000000003 -87.32 212.26719999999997 136.83999999999997\"><path d=\"M 0.0,-0.0 L 12.149999999999999,-0.0 L 24.299999999999997,-0.0\" style=\"stroke:black;fill:none;stroke-width:2.0;stroke-linecap:round;stroke-linejoin:round;\" /><path d=\"M 24.299999999999997,-0.0 L 24.299999999999997,-19.439999999999998 L 11.988,-38.879999999999995 L 36.611999999999995,-38.879999999999995 L 24.299999999999997,-19.439999999999998\" style=\"stroke:black;fill:none;stroke-width:2.0;stroke-linecap:round;stroke-linejoin:round;\" /><path d=\"M 24.299999999999997,-0.0 L 36.449999999999996,-0.0 L 48.599999999999994,-0.0\" style=\"stroke:#FFFFFF00;fill:none;stroke-width:2.0;stroke-linecap:round;stroke-linejoin:round;\" /><path d=\"M 48.599999999999994,-0.0 L 48.599999999999994,-16.2 L 81.0,-16.2 L 81.0,16.2 L 48.599999999999994,16.2 L 48.599999999999994,-0.0\" style=\"stroke:black;fill:#eeeeff;stroke-width:2.0;stroke-linecap:round;stroke-linejoin:round;\" /><path d=\"M 81.0,-0.0 L 93.14999999999999,-0.0 L 105.3,-0.0\" style=\"stroke:#FFFFFF00;fill:none;stroke-width:2.0;stroke-linecap:round;stroke-linejoin:round;\" /><path d=\"M 105.3,-0.0 L 105.3,-16.2 L 137.7,-16.2 L 137.7,16.2 L 105.3,16.2 L 105.3,-0.0\" style=\"stroke:black;fill:#ffeeee;stroke-width:2.0;stroke-linecap:round;stroke-linejoin:round;\" /><path d=\"M 137.7,-0.0 L 149.85,-0.0 L 162.0,-0.0\" style=\"stroke:#FFFFFF00;fill:none;stroke-width:2.0;stroke-linecap:round;stroke-linejoin:round;\" /><path d=\"M 162.0,-0.0 L 162.0,-19.439999999999998 L 149.688,-38.879999999999995 L 174.31199999999998,-38.879999999999995 L 162.0,-19.439999999999998\" style=\"stroke:black;fill:none;stroke-width:2.0;stroke-linecap:round;stroke-linejoin:round;\" /><text x=\"24.299999999999997\" y=\"1.4399999999999995\" fill=\"black\" font-size=\"12\" font-family=\"sans\" text-anchor=\"middle\" transform=\"rotate(0 24.299999999999997 1.4400000000000002)\"><tspan x=\"24.299999999999997\" dy=\"9.600000000000001\">TxSatAnt</tspan></text><text x=\"17.82\" y=\"-71.22\" fill=\"black\" font-size=\"6\" font-family=\"sans\" text-anchor=\"middle\" transform=\"rotate(0 17.82 -59.21999999999999)\"><tspan x=\"17.82\" dy=\"6\">gain=3.00dB</tspan><tspan x=\"17.82\" dy=\"6\">NF=2.50dB</tspan></text><text x=\"64.8\" y=\"14.399999999999999\" fill=\"black\" font-size=\"12\" font-family=\"sans\" text-anchor=\"middle\" transform=\"rotate(0 64.8 14.399999999999999)\"><tspan x=\"64.8\" dy=\"9.600000000000001\">FPSL</tspan></text><text x=\"58.32\" y=\"-54.54\" fill=\"black\" font-size=\"6\" font-family=\"sans\" text-anchor=\"middle\" transform=\"rotate(0 58.32 -36.54)\"><tspan x=\"58.32\" dy=\"6\">d=38614550.58m</tspan><tspan x=\"58.32\" dy=\"6\">gain=-204.60dB</tspan><tspan x=\"58.32\" dy=\"6\">NF=204.60dB</tspan></text><text x=\"121.5\" y=\"14.399999999999999\" fill=\"black\" font-size=\"12\" font-family=\"sans\" text-anchor=\"middle\" transform=\"rotate(0 121.5 14.399999999999999)\"><tspan x=\"121.5\" dy=\"12\">Atmospheric</tspan><tspan x=\"121.5\" dy=\"12\">loss</tspan></text><text x=\"115.02\" y=\"-48.54\" fill=\"black\" font-size=\"6\" font-family=\"sans\" text-anchor=\"middle\" transform=\"rotate(0 115.02 -36.54)\"><tspan x=\"115.02\" dy=\"6\">gain=-1.00dB</tspan><tspan x=\"115.02\" dy=\"6\">NF=1.00dB</tspan></text><text x=\"162.0\" y=\"1.4399999999999995\" fill=\"black\" font-size=\"12\" font-family=\"sans\" text-anchor=\"middle\" transform=\"rotate(0 162.0 1.4400000000000002)\"><tspan x=\"162.0\" dy=\"9.600000000000001\">Parabole</tspan></text><text x=\"155.51999999999998\" y=\"-64.02\" fill=\"black\" font-size=\"6\" font-family=\"sans\" text-anchor=\"middle\" transform=\"rotate(0 155.51999999999998 -59.21999999999999)\"><tspan x=\"155.51999999999998\" dy=\"4.800000000000001\">gain=20.00dB</tspan></text></svg>"
      ]
     },
     "metadata": {},
     "output_type": "display_data"
    },
    {
     "data": {
      "text/html": [
       "<div>\n",
       "\n",
       "<h3>RF budget with properties</h3>\n",
       "<table>\n",
       "<tr><td>Elements:</td><td>[1x4 rf.internal.rfbudget.Element]</td></tr>\n",
       "<tr><td>InputFrequency</td><td> 10486000000.0 Hz</td></tr>\n",
       "<tr><td>AvailableInputPower</td><td> 46.98970004336019  dBm</td></tr>\n",
       "<tr><td>SignalBandwidth</td><td> 2500.0 Hz</td></tr>\n",
       "<tr><td>Solver</td><td>Friis</td></tr>\n",
       "</table>\n",
       "<h3>Analysis Results</h3>\n",
       "<table>\n",
       "<tr><td></td><td></td> <td><svg xmlns=\"http://www.w3.org/2000/svg\" xml:lang=\"en\" height=\"110.91999999999999pt\" width=\"74.8912pt\" viewBox=\"-9.905600000000003 -87.32 74.8912 110.91999999999999\"><path d=\"M 0.0,-0.0 L 12.149999999999999,-0.0 L 24.299999999999997,-0.0\" style=\"stroke:black;fill:none;stroke-width:2.0;stroke-linecap:round;stroke-linejoin:round;\" /><path d=\"M 24.299999999999997,-0.0 L 24.299999999999997,-19.439999999999998 L 11.988,-38.879999999999995 L 36.611999999999995,-38.879999999999995 L 24.299999999999997,-19.439999999999998\" style=\"stroke:black;fill:none;stroke-width:2.0;stroke-linecap:round;stroke-linejoin:round;\" /><path d=\"M 0.0,-0.0 L 12.149999999999999,-0.0 L 24.299999999999997,-0.0\" style=\"stroke:black;fill:none;stroke-width:2.0;stroke-linecap:round;stroke-linejoin:round;\" /><path d=\"M 24.299999999999997,-0.0 L 24.299999999999997,-19.439999999999998 L 11.988,-38.879999999999995 L 36.611999999999995,-38.879999999999995 L 24.299999999999997,-19.439999999999998\" style=\"stroke:black;fill:none;stroke-width:2.0;stroke-linecap:round;stroke-linejoin:round;\" /><text x=\"24.299999999999997\" y=\"1.4399999999999995\" fill=\"black\" font-size=\"12\" font-family=\"sans\" text-anchor=\"middle\" transform=\"rotate(0 24.299999999999997 1.4400000000000002)\"><tspan x=\"24.299999999999997\" dy=\"9.600000000000001\">TxSatAnt</tspan></text><text x=\"17.82\" y=\"-71.22\" fill=\"black\" font-size=\"6\" font-family=\"sans\" text-anchor=\"middle\" transform=\"rotate(0 17.82 -59.21999999999999)\"><tspan x=\"17.82\" dy=\"6\">gain=3.00dB</tspan><tspan x=\"17.82\" dy=\"6\">NF=2.50dB</tspan></text><text x=\"24.299999999999997\" y=\"1.4399999999999995\" fill=\"black\" font-size=\"12\" font-family=\"sans\" text-anchor=\"middle\" transform=\"rotate(0 24.299999999999997 1.4400000000000002)\"><tspan x=\"24.299999999999997\" dy=\"9.600000000000001\">TxSatAnt</tspan></text><text x=\"17.82\" y=\"-71.22\" fill=\"black\" font-size=\"6\" font-family=\"sans\" text-anchor=\"middle\" transform=\"rotate(0 17.82 -59.21999999999999)\"><tspan x=\"17.82\" dy=\"6\">gain=3.00dB</tspan><tspan x=\"17.82\" dy=\"6\">NF=2.50dB</tspan></text></svg></td><td><svg xmlns=\"http://www.w3.org/2000/svg\" xml:lang=\"en\" height=\"106.60000000000001pt\" width=\"79.00600000000001pt\" viewBox=\"-5.24 -70.04 79.00600000000001 106.60000000000001\"><path d=\"M 0.0,-0.0 L 12.149999999999999,-0.0 L 24.299999999999997,-0.0\" style=\"stroke:black;fill:none;stroke-width:2.0;stroke-linecap:round;stroke-linejoin:round;\" /><path d=\"M 24.299999999999997,-0.0 L 24.299999999999997,-16.2 L 56.699999999999996,-16.2 L 56.699999999999996,16.2 L 24.299999999999997,16.2 L 24.299999999999997,-0.0\" style=\"stroke:black;fill:#eeeeff;stroke-width:2.0;stroke-linecap:round;stroke-linejoin:round;\" /><path d=\"M 0.0,-0.0 L 12.149999999999999,-0.0 L 24.299999999999997,-0.0\" style=\"stroke:black;fill:none;stroke-width:2.0;stroke-linecap:round;stroke-linejoin:round;\" /><path d=\"M 24.299999999999997,-0.0 L 24.299999999999997,-16.2 L 56.699999999999996,-16.2 L 56.699999999999996,16.2 L 24.299999999999997,16.2 L 24.299999999999997,-0.0\" style=\"stroke:black;fill:#eeeeff;stroke-width:2.0;stroke-linecap:round;stroke-linejoin:round;\" /><text x=\"40.5\" y=\"14.399999999999999\" fill=\"black\" font-size=\"12\" font-family=\"sans\" text-anchor=\"middle\" transform=\"rotate(0 40.5 14.399999999999999)\"><tspan x=\"40.5\" dy=\"9.600000000000001\">FPSL</tspan></text><text x=\"34.02\" y=\"-54.54\" fill=\"black\" font-size=\"6\" font-family=\"sans\" text-anchor=\"middle\" transform=\"rotate(0 34.02 -36.54)\"><tspan x=\"34.02\" dy=\"6\">d=38614550.58m</tspan><tspan x=\"34.02\" dy=\"6\">gain=-204.60dB</tspan><tspan x=\"34.02\" dy=\"6\">NF=204.60dB</tspan></text><text x=\"40.5\" y=\"14.399999999999999\" fill=\"black\" font-size=\"12\" font-family=\"sans\" text-anchor=\"middle\" transform=\"rotate(0 40.5 14.399999999999999)\"><tspan x=\"40.5\" dy=\"9.600000000000001\">FPSL</tspan></text><text x=\"34.02\" y=\"-54.54\" fill=\"black\" font-size=\"6\" font-family=\"sans\" text-anchor=\"middle\" transform=\"rotate(0 34.02 -36.54)\"><tspan x=\"34.02\" dy=\"6\">d=38614550.58m</tspan><tspan x=\"34.02\" dy=\"6\">gain=-204.60dB</tspan><tspan x=\"34.02\" dy=\"6\">NF=204.60dB</tspan></text></svg></td><td><svg xmlns=\"http://www.w3.org/2000/svg\" xml:lang=\"en\" height=\"114.16000000000001pt\" width=\"94.68759999999999pt\" viewBox=\"-5.24 -64.64000000000001 94.68759999999999 114.16000000000001\"><path d=\"M 0.0,-0.0 L 12.149999999999999,-0.0 L 24.299999999999997,-0.0\" style=\"stroke:black;fill:none;stroke-width:2.0;stroke-linecap:round;stroke-linejoin:round;\" /><path d=\"M 24.299999999999997,-0.0 L 24.299999999999997,-16.2 L 56.699999999999996,-16.2 L 56.699999999999996,16.2 L 24.299999999999997,16.2 L 24.299999999999997,-0.0\" style=\"stroke:black;fill:#ffeeee;stroke-width:2.0;stroke-linecap:round;stroke-linejoin:round;\" /><path d=\"M 0.0,-0.0 L 12.149999999999999,-0.0 L 24.299999999999997,-0.0\" style=\"stroke:black;fill:none;stroke-width:2.0;stroke-linecap:round;stroke-linejoin:round;\" /><path d=\"M 24.299999999999997,-0.0 L 24.299999999999997,-16.2 L 56.699999999999996,-16.2 L 56.699999999999996,16.2 L 24.299999999999997,16.2 L 24.299999999999997,-0.0\" style=\"stroke:black;fill:#ffeeee;stroke-width:2.0;stroke-linecap:round;stroke-linejoin:round;\" /><text x=\"40.5\" y=\"14.399999999999999\" fill=\"black\" font-size=\"12\" font-family=\"sans\" text-anchor=\"middle\" transform=\"rotate(0 40.5 14.399999999999999)\"><tspan x=\"40.5\" dy=\"12\">Atmospheric</tspan><tspan x=\"40.5\" dy=\"12\">loss</tspan></text><text x=\"34.02\" y=\"-48.54\" fill=\"black\" font-size=\"6\" font-family=\"sans\" text-anchor=\"middle\" transform=\"rotate(0 34.02 -36.54)\"><tspan x=\"34.02\" dy=\"6\">gain=-1.00dB</tspan><tspan x=\"34.02\" dy=\"6\">NF=1.00dB</tspan></text><text x=\"40.5\" y=\"14.399999999999999\" fill=\"black\" font-size=\"12\" font-family=\"sans\" text-anchor=\"middle\" transform=\"rotate(0 40.5 14.399999999999999)\"><tspan x=\"40.5\" dy=\"12\">Atmospheric</tspan><tspan x=\"40.5\" dy=\"12\">loss</tspan></text><text x=\"34.02\" y=\"-48.54\" fill=\"black\" font-size=\"6\" font-family=\"sans\" text-anchor=\"middle\" transform=\"rotate(0 34.02 -36.54)\"><tspan x=\"34.02\" dy=\"6\">gain=-1.00dB</tspan><tspan x=\"34.02\" dy=\"6\">NF=1.00dB</tspan></text></svg></td><td><svg xmlns=\"http://www.w3.org/2000/svg\" xml:lang=\"en\" height=\"104.43999999999998pt\" width=\"75.63640000000001pt\" viewBox=\"-10.9748 -80.83999999999999 75.63640000000001 104.43999999999998\"><path d=\"M 0.0,-0.0 L 12.149999999999999,-0.0 L 24.299999999999997,-0.0\" style=\"stroke:black;fill:none;stroke-width:2.0;stroke-linecap:round;stroke-linejoin:round;\" /><path d=\"M 24.299999999999997,-0.0 L 24.299999999999997,-19.439999999999998 L 11.988,-38.879999999999995 L 36.611999999999995,-38.879999999999995 L 24.299999999999997,-19.439999999999998\" style=\"stroke:black;fill:none;stroke-width:2.0;stroke-linecap:round;stroke-linejoin:round;\" /><path d=\"M 0.0,-0.0 L 12.149999999999999,-0.0 L 24.299999999999997,-0.0\" style=\"stroke:black;fill:none;stroke-width:2.0;stroke-linecap:round;stroke-linejoin:round;\" /><path d=\"M 24.299999999999997,-0.0 L 24.299999999999997,-19.439999999999998 L 11.988,-38.879999999999995 L 36.611999999999995,-38.879999999999995 L 24.299999999999997,-19.439999999999998\" style=\"stroke:black;fill:none;stroke-width:2.0;stroke-linecap:round;stroke-linejoin:round;\" /><text x=\"24.299999999999997\" y=\"1.4399999999999995\" fill=\"black\" font-size=\"12\" font-family=\"sans\" text-anchor=\"middle\" transform=\"rotate(0 24.299999999999997 1.4400000000000002)\"><tspan x=\"24.299999999999997\" dy=\"9.600000000000001\">Parabole</tspan></text><text x=\"17.82\" y=\"-64.02\" fill=\"black\" font-size=\"6\" font-family=\"sans\" text-anchor=\"middle\" transform=\"rotate(0 17.82 -59.21999999999999)\"><tspan x=\"17.82\" dy=\"4.800000000000001\">gain=20.00dB</tspan></text><text x=\"24.299999999999997\" y=\"1.4399999999999995\" fill=\"black\" font-size=\"12\" font-family=\"sans\" text-anchor=\"middle\" transform=\"rotate(0 24.299999999999997 1.4400000000000002)\"><tspan x=\"24.299999999999997\" dy=\"9.600000000000001\">Parabole</tspan></text><text x=\"17.82\" y=\"-64.02\" fill=\"black\" font-size=\"6\" font-family=\"sans\" text-anchor=\"middle\" transform=\"rotate(0 17.82 -59.21999999999999)\"><tspan x=\"17.82\" dy=\"4.800000000000001\">gain=20.00dB</tspan></text></svg></td> </tr>\n",
       "<tr><td>ThermalNoise:</td><td>(dBm)</td> <td>-140.00</td> </tr>\n",
       "<tr><td>OutputFrequency:</td><td>(Hz)</td> <td>10486000000.00</td><td>10486000000.00</td><td>10486000000.00</td><td>10486000000.00</td> </tr>\n",
       "<tr><td>OutputPower:</td><td>(dBm)</td> <td>49.99</td><td>-154.61</td><td>-155.61</td><td>-135.61</td> </tr>\n",
       "<tr><td>TransducerGain:</td><td>(dB)</td> <td>3.00</td><td>-201.60</td><td>-202.60</td><td>-182.60</td> </tr>\n",
       "<tr><td>Noisefigure:</td><td>(dB)</td> <td>2.50</td><td>201.60</td><td>202.60</td><td>202.60</td> </tr>\n",
       "<tr><td>SNR:</td><td>(dB)</td> <td>184.49</td><td>-14.61</td><td>-15.61</td><td>-15.61</td> </tr>\n",
       "<tr><td>ChannelCapacity:</td><td>(bps)</td> <td>153213.58</td><td>122.67</td><td>97.78</td><td>97.78</td> </tr>\n",
       "</table>\n",
       "</div>\n",
       "\n"
      ],
      "text/plain": [
       "<IPython.core.display.HTML object>"
      ]
     },
     "metadata": {},
     "output_type": "display_data"
    }
   ],
   "source": [
    "tx_sat_antenna = Antenna(\n",
    "    name='TxSatAnt',\n",
    "    gain=dB(3),\n",
    "    nf=2.5,\n",
    ")\n",
    "freespace_down = FreeSpacePathLossFriis(\n",
    "    distance = slant,\n",
    "    freq = down_freq,\n",
    ")\n",
    "rx_antenna = Antenna(\n",
    "    name='Parabole',\n",
    "    gain=dB(20),\n",
    ")\n",
    "down_budget = budget(\n",
    "    elements=[tx_sat_antenna, freespace_down, atmo_loss, rx_antenna],\n",
    "    input_freq=down_freq,\n",
    "    available_input_power=sat_transmit_power_dbm,\n",
    "    signal_bandwidth=signal_bandwidth,\n",
    "    without_oip=True\n",
    ")\n",
    "d = down_budget.schemdraw(opt)\n",
    "down_budget.display(with_icons=True, options=opt)"
   ]
  }
 ],
 "metadata": {
  "kernelspec": {
   "display_name": "Python 3 (ipykernel)",
   "language": "python",
   "name": "python3"
  },
  "language_info": {
   "codemirror_mode": {
    "name": "ipython",
    "version": 3
   },
   "file_extension": ".py",
   "mimetype": "text/x-python",
   "name": "python",
   "nbconvert_exporter": "python",
   "pygments_lexer": "ipython3",
   "version": "3.11.7"
  }
 },
 "nbformat": 4,
 "nbformat_minor": 5
}
